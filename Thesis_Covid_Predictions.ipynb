{
  "nbformat": 4,
  "nbformat_minor": 0,
  "metadata": {
    "colab": {
      "name": "Thesis Covid Predictions.ipynb",
      "provenance": [],
      "collapsed_sections": [],
      "mount_file_id": "1VeuvoDUInK8VtaDwe7adJCz25gaL4mO2",
      "authorship_tag": "ABX9TyNDMcGMGcfAy3Xl2LQxCdVX",
      "include_colab_link": true
    },
    "kernelspec": {
      "display_name": "Python 3",
      "name": "python3"
    },
    "language_info": {
      "name": "python"
    }
  },
  "cells": [
    {
      "cell_type": "markdown",
      "metadata": {
        "id": "view-in-github",
        "colab_type": "text"
      },
      "source": [
        "<a href=\"https://colab.research.google.com/github/ashikur-rahman-sun/Classification-dataset-covid-/blob/main/Thesis_Covid_Predictions.ipynb\" target=\"_parent\"><img src=\"https://colab.research.google.com/assets/colab-badge.svg\" alt=\"Open In Colab\"/></a>"
      ]
    },
    {
      "cell_type": "code",
      "metadata": {
        "id": "cBr6iY7jdgzs"
      },
      "source": [
        "# basic library\n",
        "import pandas as pd\n",
        "import numpy as np\n",
        "# data visualization library \n",
        "import matplotlib\n",
        "import matplotlib.pyplot as plt\n",
        "import seaborn as sns\n",
        "%matplotlib inline\n",
        " \n",
        "sns.set(context='notebook', style='darkgrid', palette='colorblind', font='sans-serif', font_scale=1, rc=None)\n",
        "matplotlib.rcParams['figure.figsize'] =[8,8]\n",
        "matplotlib.rcParams.update({'font.size': 15})\n",
        "matplotlib.rcParams['font.family'] = 'sans-serif'"
      ],
      "execution_count": null,
      "outputs": []
    },
    {
      "cell_type": "code",
      "metadata": {
        "id": "rT7q-L9hyFn5"
      },
      "source": [
        "import warnings\n",
        "warnings.filterwarnings(\"ignore\")"
      ],
      "execution_count": null,
      "outputs": []
    },
    {
      "cell_type": "code",
      "metadata": {
        "colab": {
          "base_uri": "https://localhost:8080/",
          "height": 530
        },
        "id": "WptvHyFjd6Qk",
        "outputId": "0b8160be-ff9f-48b4-9e66-f2f99ac87645"
      },
      "source": [
        "covid = pd.read_csv('/content/drive/MyDrive/Colab Notebooks/Covid Dataset.csv')\n",
        "covid"
      ],
      "execution_count": null,
      "outputs": [
        {
          "output_type": "execute_result",
          "data": {
            "text/html": [
              "<div>\n",
              "<style scoped>\n",
              "    .dataframe tbody tr th:only-of-type {\n",
              "        vertical-align: middle;\n",
              "    }\n",
              "\n",
              "    .dataframe tbody tr th {\n",
              "        vertical-align: top;\n",
              "    }\n",
              "\n",
              "    .dataframe thead th {\n",
              "        text-align: right;\n",
              "    }\n",
              "</style>\n",
              "<table border=\"1\" class=\"dataframe\">\n",
              "  <thead>\n",
              "    <tr style=\"text-align: right;\">\n",
              "      <th></th>\n",
              "      <th>Breathing Problem</th>\n",
              "      <th>Fever</th>\n",
              "      <th>Dry Cough</th>\n",
              "      <th>Sore throat</th>\n",
              "      <th>Running Nose</th>\n",
              "      <th>Asthma</th>\n",
              "      <th>Chronic Lung Disease</th>\n",
              "      <th>Headache</th>\n",
              "      <th>Heart Disease</th>\n",
              "      <th>Diabetes</th>\n",
              "      <th>Hyper Tension</th>\n",
              "      <th>Fatigue</th>\n",
              "      <th>Gastrointestinal</th>\n",
              "      <th>Abroad travel</th>\n",
              "      <th>Contact with COVID Patient</th>\n",
              "      <th>Attended Large Gathering</th>\n",
              "      <th>Visited Public Exposed Places</th>\n",
              "      <th>Family working in Public Exposed Places</th>\n",
              "      <th>Wearing Masks</th>\n",
              "      <th>Sanitization from Market</th>\n",
              "      <th>COVID-19</th>\n",
              "    </tr>\n",
              "  </thead>\n",
              "  <tbody>\n",
              "    <tr>\n",
              "      <th>0</th>\n",
              "      <td>Yes</td>\n",
              "      <td>Yes</td>\n",
              "      <td>Yes</td>\n",
              "      <td>Yes</td>\n",
              "      <td>Yes</td>\n",
              "      <td>No</td>\n",
              "      <td>No</td>\n",
              "      <td>No</td>\n",
              "      <td>No</td>\n",
              "      <td>Yes</td>\n",
              "      <td>Yes</td>\n",
              "      <td>Yes</td>\n",
              "      <td>Yes</td>\n",
              "      <td>No</td>\n",
              "      <td>Yes</td>\n",
              "      <td>No</td>\n",
              "      <td>Yes</td>\n",
              "      <td>Yes</td>\n",
              "      <td>No</td>\n",
              "      <td>No</td>\n",
              "      <td>Yes</td>\n",
              "    </tr>\n",
              "    <tr>\n",
              "      <th>1</th>\n",
              "      <td>Yes</td>\n",
              "      <td>Yes</td>\n",
              "      <td>Yes</td>\n",
              "      <td>Yes</td>\n",
              "      <td>No</td>\n",
              "      <td>Yes</td>\n",
              "      <td>Yes</td>\n",
              "      <td>Yes</td>\n",
              "      <td>No</td>\n",
              "      <td>No</td>\n",
              "      <td>No</td>\n",
              "      <td>Yes</td>\n",
              "      <td>No</td>\n",
              "      <td>No</td>\n",
              "      <td>No</td>\n",
              "      <td>Yes</td>\n",
              "      <td>Yes</td>\n",
              "      <td>No</td>\n",
              "      <td>No</td>\n",
              "      <td>No</td>\n",
              "      <td>Yes</td>\n",
              "    </tr>\n",
              "    <tr>\n",
              "      <th>2</th>\n",
              "      <td>Yes</td>\n",
              "      <td>Yes</td>\n",
              "      <td>Yes</td>\n",
              "      <td>Yes</td>\n",
              "      <td>Yes</td>\n",
              "      <td>Yes</td>\n",
              "      <td>Yes</td>\n",
              "      <td>Yes</td>\n",
              "      <td>No</td>\n",
              "      <td>Yes</td>\n",
              "      <td>No</td>\n",
              "      <td>Yes</td>\n",
              "      <td>Yes</td>\n",
              "      <td>Yes</td>\n",
              "      <td>No</td>\n",
              "      <td>No</td>\n",
              "      <td>No</td>\n",
              "      <td>No</td>\n",
              "      <td>No</td>\n",
              "      <td>No</td>\n",
              "      <td>Yes</td>\n",
              "    </tr>\n",
              "    <tr>\n",
              "      <th>3</th>\n",
              "      <td>Yes</td>\n",
              "      <td>Yes</td>\n",
              "      <td>Yes</td>\n",
              "      <td>No</td>\n",
              "      <td>No</td>\n",
              "      <td>Yes</td>\n",
              "      <td>No</td>\n",
              "      <td>No</td>\n",
              "      <td>Yes</td>\n",
              "      <td>Yes</td>\n",
              "      <td>No</td>\n",
              "      <td>No</td>\n",
              "      <td>No</td>\n",
              "      <td>Yes</td>\n",
              "      <td>No</td>\n",
              "      <td>Yes</td>\n",
              "      <td>Yes</td>\n",
              "      <td>No</td>\n",
              "      <td>No</td>\n",
              "      <td>No</td>\n",
              "      <td>Yes</td>\n",
              "    </tr>\n",
              "    <tr>\n",
              "      <th>4</th>\n",
              "      <td>Yes</td>\n",
              "      <td>Yes</td>\n",
              "      <td>Yes</td>\n",
              "      <td>Yes</td>\n",
              "      <td>Yes</td>\n",
              "      <td>No</td>\n",
              "      <td>Yes</td>\n",
              "      <td>Yes</td>\n",
              "      <td>Yes</td>\n",
              "      <td>Yes</td>\n",
              "      <td>Yes</td>\n",
              "      <td>No</td>\n",
              "      <td>Yes</td>\n",
              "      <td>No</td>\n",
              "      <td>Yes</td>\n",
              "      <td>No</td>\n",
              "      <td>Yes</td>\n",
              "      <td>No</td>\n",
              "      <td>No</td>\n",
              "      <td>No</td>\n",
              "      <td>Yes</td>\n",
              "    </tr>\n",
              "    <tr>\n",
              "      <th>...</th>\n",
              "      <td>...</td>\n",
              "      <td>...</td>\n",
              "      <td>...</td>\n",
              "      <td>...</td>\n",
              "      <td>...</td>\n",
              "      <td>...</td>\n",
              "      <td>...</td>\n",
              "      <td>...</td>\n",
              "      <td>...</td>\n",
              "      <td>...</td>\n",
              "      <td>...</td>\n",
              "      <td>...</td>\n",
              "      <td>...</td>\n",
              "      <td>...</td>\n",
              "      <td>...</td>\n",
              "      <td>...</td>\n",
              "      <td>...</td>\n",
              "      <td>...</td>\n",
              "      <td>...</td>\n",
              "      <td>...</td>\n",
              "      <td>...</td>\n",
              "    </tr>\n",
              "    <tr>\n",
              "      <th>5429</th>\n",
              "      <td>Yes</td>\n",
              "      <td>Yes</td>\n",
              "      <td>No</td>\n",
              "      <td>Yes</td>\n",
              "      <td>Yes</td>\n",
              "      <td>Yes</td>\n",
              "      <td>Yes</td>\n",
              "      <td>No</td>\n",
              "      <td>No</td>\n",
              "      <td>No</td>\n",
              "      <td>No</td>\n",
              "      <td>Yes</td>\n",
              "      <td>Yes</td>\n",
              "      <td>No</td>\n",
              "      <td>No</td>\n",
              "      <td>No</td>\n",
              "      <td>No</td>\n",
              "      <td>No</td>\n",
              "      <td>No</td>\n",
              "      <td>No</td>\n",
              "      <td>Yes</td>\n",
              "    </tr>\n",
              "    <tr>\n",
              "      <th>5430</th>\n",
              "      <td>Yes</td>\n",
              "      <td>Yes</td>\n",
              "      <td>Yes</td>\n",
              "      <td>No</td>\n",
              "      <td>Yes</td>\n",
              "      <td>Yes</td>\n",
              "      <td>No</td>\n",
              "      <td>Yes</td>\n",
              "      <td>No</td>\n",
              "      <td>Yes</td>\n",
              "      <td>Yes</td>\n",
              "      <td>Yes</td>\n",
              "      <td>No</td>\n",
              "      <td>No</td>\n",
              "      <td>No</td>\n",
              "      <td>No</td>\n",
              "      <td>No</td>\n",
              "      <td>No</td>\n",
              "      <td>No</td>\n",
              "      <td>No</td>\n",
              "      <td>Yes</td>\n",
              "    </tr>\n",
              "    <tr>\n",
              "      <th>5431</th>\n",
              "      <td>Yes</td>\n",
              "      <td>Yes</td>\n",
              "      <td>Yes</td>\n",
              "      <td>No</td>\n",
              "      <td>No</td>\n",
              "      <td>No</td>\n",
              "      <td>No</td>\n",
              "      <td>No</td>\n",
              "      <td>Yes</td>\n",
              "      <td>No</td>\n",
              "      <td>Yes</td>\n",
              "      <td>No</td>\n",
              "      <td>No</td>\n",
              "      <td>No</td>\n",
              "      <td>No</td>\n",
              "      <td>No</td>\n",
              "      <td>No</td>\n",
              "      <td>No</td>\n",
              "      <td>No</td>\n",
              "      <td>No</td>\n",
              "      <td>No</td>\n",
              "    </tr>\n",
              "    <tr>\n",
              "      <th>5432</th>\n",
              "      <td>Yes</td>\n",
              "      <td>Yes</td>\n",
              "      <td>Yes</td>\n",
              "      <td>No</td>\n",
              "      <td>Yes</td>\n",
              "      <td>No</td>\n",
              "      <td>No</td>\n",
              "      <td>Yes</td>\n",
              "      <td>Yes</td>\n",
              "      <td>No</td>\n",
              "      <td>No</td>\n",
              "      <td>No</td>\n",
              "      <td>No</td>\n",
              "      <td>No</td>\n",
              "      <td>No</td>\n",
              "      <td>No</td>\n",
              "      <td>No</td>\n",
              "      <td>No</td>\n",
              "      <td>No</td>\n",
              "      <td>No</td>\n",
              "      <td>No</td>\n",
              "    </tr>\n",
              "    <tr>\n",
              "      <th>5433</th>\n",
              "      <td>Yes</td>\n",
              "      <td>Yes</td>\n",
              "      <td>Yes</td>\n",
              "      <td>No</td>\n",
              "      <td>Yes</td>\n",
              "      <td>Yes</td>\n",
              "      <td>No</td>\n",
              "      <td>Yes</td>\n",
              "      <td>No</td>\n",
              "      <td>Yes</td>\n",
              "      <td>Yes</td>\n",
              "      <td>Yes</td>\n",
              "      <td>No</td>\n",
              "      <td>No</td>\n",
              "      <td>No</td>\n",
              "      <td>No</td>\n",
              "      <td>No</td>\n",
              "      <td>No</td>\n",
              "      <td>No</td>\n",
              "      <td>No</td>\n",
              "      <td>No</td>\n",
              "    </tr>\n",
              "  </tbody>\n",
              "</table>\n",
              "<p>5434 rows × 21 columns</p>\n",
              "</div>"
            ],
            "text/plain": [
              "     Breathing Problem Fever  ... Sanitization from Market COVID-19\n",
              "0                  Yes   Yes  ...                       No      Yes\n",
              "1                  Yes   Yes  ...                       No      Yes\n",
              "2                  Yes   Yes  ...                       No      Yes\n",
              "3                  Yes   Yes  ...                       No      Yes\n",
              "4                  Yes   Yes  ...                       No      Yes\n",
              "...                ...   ...  ...                      ...      ...\n",
              "5429               Yes   Yes  ...                       No      Yes\n",
              "5430               Yes   Yes  ...                       No      Yes\n",
              "5431               Yes   Yes  ...                       No       No\n",
              "5432               Yes   Yes  ...                       No       No\n",
              "5433               Yes   Yes  ...                       No       No\n",
              "\n",
              "[5434 rows x 21 columns]"
            ]
          },
          "metadata": {
            "tags": []
          },
          "execution_count": 4
        }
      ]
    },
    {
      "cell_type": "code",
      "metadata": {
        "colab": {
          "base_uri": "https://localhost:8080/"
        },
        "id": "D-cYUiA0eU4a",
        "outputId": "96ed74e3-2e3b-4d52-b60b-298bc76a29cd"
      },
      "source": [
        "covid.dtypes"
      ],
      "execution_count": null,
      "outputs": [
        {
          "output_type": "execute_result",
          "data": {
            "text/plain": [
              "Breathing Problem                          object\n",
              "Fever                                      object\n",
              "Dry Cough                                  object\n",
              "Sore throat                                object\n",
              "Running Nose                               object\n",
              "Asthma                                     object\n",
              "Chronic Lung Disease                       object\n",
              "Headache                                   object\n",
              "Heart Disease                              object\n",
              "Diabetes                                   object\n",
              "Hyper Tension                              object\n",
              "Fatigue                                    object\n",
              "Gastrointestinal                           object\n",
              "Abroad travel                              object\n",
              "Contact with COVID Patient                 object\n",
              "Attended Large Gathering                   object\n",
              "Visited Public Exposed Places              object\n",
              "Family working in Public Exposed Places    object\n",
              "Wearing Masks                              object\n",
              "Sanitization from Market                   object\n",
              "COVID-19                                   object\n",
              "dtype: object"
            ]
          },
          "metadata": {
            "tags": []
          },
          "execution_count": 5
        }
      ]
    },
    {
      "cell_type": "code",
      "metadata": {
        "colab": {
          "base_uri": "https://localhost:8080/"
        },
        "id": "UV8uM1ypeZhz",
        "outputId": "59479708-95e6-44c7-c9c4-5d8904067f31"
      },
      "source": [
        "covid.shape"
      ],
      "execution_count": null,
      "outputs": [
        {
          "output_type": "execute_result",
          "data": {
            "text/plain": [
              "(5434, 21)"
            ]
          },
          "metadata": {
            "tags": []
          },
          "execution_count": 6
        }
      ]
    },
    {
      "cell_type": "code",
      "metadata": {
        "colab": {
          "base_uri": "https://localhost:8080/",
          "height": 470
        },
        "id": "9xh6KTeuedyz",
        "outputId": "4cd6053d-52e4-4d59-e9d8-44d768f9d29c"
      },
      "source": [
        "covid.head(10)"
      ],
      "execution_count": null,
      "outputs": [
        {
          "output_type": "execute_result",
          "data": {
            "text/html": [
              "<div>\n",
              "<style scoped>\n",
              "    .dataframe tbody tr th:only-of-type {\n",
              "        vertical-align: middle;\n",
              "    }\n",
              "\n",
              "    .dataframe tbody tr th {\n",
              "        vertical-align: top;\n",
              "    }\n",
              "\n",
              "    .dataframe thead th {\n",
              "        text-align: right;\n",
              "    }\n",
              "</style>\n",
              "<table border=\"1\" class=\"dataframe\">\n",
              "  <thead>\n",
              "    <tr style=\"text-align: right;\">\n",
              "      <th></th>\n",
              "      <th>Breathing Problem</th>\n",
              "      <th>Fever</th>\n",
              "      <th>Dry Cough</th>\n",
              "      <th>Sore throat</th>\n",
              "      <th>Running Nose</th>\n",
              "      <th>Asthma</th>\n",
              "      <th>Chronic Lung Disease</th>\n",
              "      <th>Headache</th>\n",
              "      <th>Heart Disease</th>\n",
              "      <th>Diabetes</th>\n",
              "      <th>Hyper Tension</th>\n",
              "      <th>Fatigue</th>\n",
              "      <th>Gastrointestinal</th>\n",
              "      <th>Abroad travel</th>\n",
              "      <th>Contact with COVID Patient</th>\n",
              "      <th>Attended Large Gathering</th>\n",
              "      <th>Visited Public Exposed Places</th>\n",
              "      <th>Family working in Public Exposed Places</th>\n",
              "      <th>Wearing Masks</th>\n",
              "      <th>Sanitization from Market</th>\n",
              "      <th>COVID-19</th>\n",
              "    </tr>\n",
              "  </thead>\n",
              "  <tbody>\n",
              "    <tr>\n",
              "      <th>0</th>\n",
              "      <td>Yes</td>\n",
              "      <td>Yes</td>\n",
              "      <td>Yes</td>\n",
              "      <td>Yes</td>\n",
              "      <td>Yes</td>\n",
              "      <td>No</td>\n",
              "      <td>No</td>\n",
              "      <td>No</td>\n",
              "      <td>No</td>\n",
              "      <td>Yes</td>\n",
              "      <td>Yes</td>\n",
              "      <td>Yes</td>\n",
              "      <td>Yes</td>\n",
              "      <td>No</td>\n",
              "      <td>Yes</td>\n",
              "      <td>No</td>\n",
              "      <td>Yes</td>\n",
              "      <td>Yes</td>\n",
              "      <td>No</td>\n",
              "      <td>No</td>\n",
              "      <td>Yes</td>\n",
              "    </tr>\n",
              "    <tr>\n",
              "      <th>1</th>\n",
              "      <td>Yes</td>\n",
              "      <td>Yes</td>\n",
              "      <td>Yes</td>\n",
              "      <td>Yes</td>\n",
              "      <td>No</td>\n",
              "      <td>Yes</td>\n",
              "      <td>Yes</td>\n",
              "      <td>Yes</td>\n",
              "      <td>No</td>\n",
              "      <td>No</td>\n",
              "      <td>No</td>\n",
              "      <td>Yes</td>\n",
              "      <td>No</td>\n",
              "      <td>No</td>\n",
              "      <td>No</td>\n",
              "      <td>Yes</td>\n",
              "      <td>Yes</td>\n",
              "      <td>No</td>\n",
              "      <td>No</td>\n",
              "      <td>No</td>\n",
              "      <td>Yes</td>\n",
              "    </tr>\n",
              "    <tr>\n",
              "      <th>2</th>\n",
              "      <td>Yes</td>\n",
              "      <td>Yes</td>\n",
              "      <td>Yes</td>\n",
              "      <td>Yes</td>\n",
              "      <td>Yes</td>\n",
              "      <td>Yes</td>\n",
              "      <td>Yes</td>\n",
              "      <td>Yes</td>\n",
              "      <td>No</td>\n",
              "      <td>Yes</td>\n",
              "      <td>No</td>\n",
              "      <td>Yes</td>\n",
              "      <td>Yes</td>\n",
              "      <td>Yes</td>\n",
              "      <td>No</td>\n",
              "      <td>No</td>\n",
              "      <td>No</td>\n",
              "      <td>No</td>\n",
              "      <td>No</td>\n",
              "      <td>No</td>\n",
              "      <td>Yes</td>\n",
              "    </tr>\n",
              "    <tr>\n",
              "      <th>3</th>\n",
              "      <td>Yes</td>\n",
              "      <td>Yes</td>\n",
              "      <td>Yes</td>\n",
              "      <td>No</td>\n",
              "      <td>No</td>\n",
              "      <td>Yes</td>\n",
              "      <td>No</td>\n",
              "      <td>No</td>\n",
              "      <td>Yes</td>\n",
              "      <td>Yes</td>\n",
              "      <td>No</td>\n",
              "      <td>No</td>\n",
              "      <td>No</td>\n",
              "      <td>Yes</td>\n",
              "      <td>No</td>\n",
              "      <td>Yes</td>\n",
              "      <td>Yes</td>\n",
              "      <td>No</td>\n",
              "      <td>No</td>\n",
              "      <td>No</td>\n",
              "      <td>Yes</td>\n",
              "    </tr>\n",
              "    <tr>\n",
              "      <th>4</th>\n",
              "      <td>Yes</td>\n",
              "      <td>Yes</td>\n",
              "      <td>Yes</td>\n",
              "      <td>Yes</td>\n",
              "      <td>Yes</td>\n",
              "      <td>No</td>\n",
              "      <td>Yes</td>\n",
              "      <td>Yes</td>\n",
              "      <td>Yes</td>\n",
              "      <td>Yes</td>\n",
              "      <td>Yes</td>\n",
              "      <td>No</td>\n",
              "      <td>Yes</td>\n",
              "      <td>No</td>\n",
              "      <td>Yes</td>\n",
              "      <td>No</td>\n",
              "      <td>Yes</td>\n",
              "      <td>No</td>\n",
              "      <td>No</td>\n",
              "      <td>No</td>\n",
              "      <td>Yes</td>\n",
              "    </tr>\n",
              "    <tr>\n",
              "      <th>5</th>\n",
              "      <td>Yes</td>\n",
              "      <td>Yes</td>\n",
              "      <td>Yes</td>\n",
              "      <td>No</td>\n",
              "      <td>No</td>\n",
              "      <td>No</td>\n",
              "      <td>No</td>\n",
              "      <td>No</td>\n",
              "      <td>Yes</td>\n",
              "      <td>No</td>\n",
              "      <td>Yes</td>\n",
              "      <td>No</td>\n",
              "      <td>No</td>\n",
              "      <td>No</td>\n",
              "      <td>No</td>\n",
              "      <td>No</td>\n",
              "      <td>No</td>\n",
              "      <td>No</td>\n",
              "      <td>No</td>\n",
              "      <td>No</td>\n",
              "      <td>Yes</td>\n",
              "    </tr>\n",
              "    <tr>\n",
              "      <th>6</th>\n",
              "      <td>Yes</td>\n",
              "      <td>Yes</td>\n",
              "      <td>Yes</td>\n",
              "      <td>No</td>\n",
              "      <td>No</td>\n",
              "      <td>No</td>\n",
              "      <td>Yes</td>\n",
              "      <td>No</td>\n",
              "      <td>Yes</td>\n",
              "      <td>Yes</td>\n",
              "      <td>Yes</td>\n",
              "      <td>Yes</td>\n",
              "      <td>Yes</td>\n",
              "      <td>No</td>\n",
              "      <td>No</td>\n",
              "      <td>Yes</td>\n",
              "      <td>Yes</td>\n",
              "      <td>Yes</td>\n",
              "      <td>No</td>\n",
              "      <td>No</td>\n",
              "      <td>Yes</td>\n",
              "    </tr>\n",
              "    <tr>\n",
              "      <th>7</th>\n",
              "      <td>Yes</td>\n",
              "      <td>Yes</td>\n",
              "      <td>Yes</td>\n",
              "      <td>No</td>\n",
              "      <td>Yes</td>\n",
              "      <td>Yes</td>\n",
              "      <td>No</td>\n",
              "      <td>No</td>\n",
              "      <td>No</td>\n",
              "      <td>Yes</td>\n",
              "      <td>Yes</td>\n",
              "      <td>No</td>\n",
              "      <td>Yes</td>\n",
              "      <td>Yes</td>\n",
              "      <td>No</td>\n",
              "      <td>No</td>\n",
              "      <td>Yes</td>\n",
              "      <td>No</td>\n",
              "      <td>No</td>\n",
              "      <td>No</td>\n",
              "      <td>Yes</td>\n",
              "    </tr>\n",
              "    <tr>\n",
              "      <th>8</th>\n",
              "      <td>Yes</td>\n",
              "      <td>Yes</td>\n",
              "      <td>Yes</td>\n",
              "      <td>No</td>\n",
              "      <td>Yes</td>\n",
              "      <td>No</td>\n",
              "      <td>Yes</td>\n",
              "      <td>No</td>\n",
              "      <td>No</td>\n",
              "      <td>Yes</td>\n",
              "      <td>No</td>\n",
              "      <td>Yes</td>\n",
              "      <td>No</td>\n",
              "      <td>Yes</td>\n",
              "      <td>Yes</td>\n",
              "      <td>Yes</td>\n",
              "      <td>No</td>\n",
              "      <td>No</td>\n",
              "      <td>No</td>\n",
              "      <td>No</td>\n",
              "      <td>Yes</td>\n",
              "    </tr>\n",
              "    <tr>\n",
              "      <th>9</th>\n",
              "      <td>Yes</td>\n",
              "      <td>Yes</td>\n",
              "      <td>Yes</td>\n",
              "      <td>No</td>\n",
              "      <td>No</td>\n",
              "      <td>Yes</td>\n",
              "      <td>No</td>\n",
              "      <td>No</td>\n",
              "      <td>No</td>\n",
              "      <td>Yes</td>\n",
              "      <td>Yes</td>\n",
              "      <td>Yes</td>\n",
              "      <td>No</td>\n",
              "      <td>No</td>\n",
              "      <td>No</td>\n",
              "      <td>No</td>\n",
              "      <td>Yes</td>\n",
              "      <td>No</td>\n",
              "      <td>No</td>\n",
              "      <td>No</td>\n",
              "      <td>Yes</td>\n",
              "    </tr>\n",
              "  </tbody>\n",
              "</table>\n",
              "</div>"
            ],
            "text/plain": [
              "  Breathing Problem Fever  ... Sanitization from Market COVID-19\n",
              "0               Yes   Yes  ...                       No      Yes\n",
              "1               Yes   Yes  ...                       No      Yes\n",
              "2               Yes   Yes  ...                       No      Yes\n",
              "3               Yes   Yes  ...                       No      Yes\n",
              "4               Yes   Yes  ...                       No      Yes\n",
              "5               Yes   Yes  ...                       No      Yes\n",
              "6               Yes   Yes  ...                       No      Yes\n",
              "7               Yes   Yes  ...                       No      Yes\n",
              "8               Yes   Yes  ...                       No      Yes\n",
              "9               Yes   Yes  ...                       No      Yes\n",
              "\n",
              "[10 rows x 21 columns]"
            ]
          },
          "metadata": {
            "tags": []
          },
          "execution_count": 7
        }
      ]
    },
    {
      "cell_type": "code",
      "metadata": {
        "id": "n2nO-mlqekFF"
      },
      "source": [
        "covid_new ={\"Breathing Problem\": {\"Yes\": 1, \"No\": 0 },\n",
        "            \"Fever\": {\"Yes\": 1, \"No\": 0 },\n",
        "            \"Dry Cough\": {\"Yes\": 1, \"No\": 0 },\n",
        "            \"Sore throat\": {\"Yes\": 1, \"No\": 0 },\n",
        "            \"Running Nose\": {\"Yes\": 1, \"No\": 0 },\n",
        "            \"Asthma\": {\"Yes\": 1, \"No\": 0 },\n",
        "            \"Fatigue\": {\"Yes\": 1, \"No\": 0 },\n",
        "            \"Chronic Lung Disease\": {\"Yes\": 1, \"No\": 0 },\n",
        "            \"Headache\": {\"Yes\": 1, \"No\": 0 },\n",
        "            \"Heart Disease\": {\"Yes\": 1, \"No\": 0 },\n",
        "            \"Diabetes\": {\"Yes\": 1, \"No\": 0 },\n",
        "            \"Hyper Tension\": {\"Yes\": 1, \"No\": 0 },\n",
        "            \"Gastrointestinal\": {\"Yes\": 1, \"No\": 0 },\n",
        "            \"Abroad travel\": {\"Yes\": 1, \"No\": 0 },\n",
        "            \"Contact with COVID Patient\": {\"Yes\": 1, \"No\": 0 },\n",
        "            \"Attended Large Gathering\": {\"Yes\": 1, \"No\": 0 },\n",
        "            \"Visited Public Exposed Places\": {\"Yes\": 1, \"No\": 0 },\n",
        "            \"Family working in Public Exposed Places\": {\"Yes\": 1, \"No\": 0 },\n",
        "            \"Wearing Masks\": {\"Yes\": 1, \"No\": 0 },\n",
        "            \"Sanitization from Market\": {\"Yes\": 1, \"No\": 0 },\n",
        "            \"COVID-19\": {\"Yes\": 1, \"No\": 0 }\n",
        "            \n",
        "            }"
      ],
      "execution_count": null,
      "outputs": []
    },
    {
      "cell_type": "code",
      "metadata": {
        "id": "Xopy5zh4etS4"
      },
      "source": [
        "covid = covid.replace(covid_new)"
      ],
      "execution_count": null,
      "outputs": []
    },
    {
      "cell_type": "code",
      "metadata": {
        "colab": {
          "base_uri": "https://localhost:8080/",
          "height": 313
        },
        "id": "z67v-ZPkezJA",
        "outputId": "95a9c228-131e-43b4-b62c-ff7f9f3602d6"
      },
      "source": [
        "covid.head(5)"
      ],
      "execution_count": null,
      "outputs": [
        {
          "output_type": "execute_result",
          "data": {
            "text/html": [
              "<div>\n",
              "<style scoped>\n",
              "    .dataframe tbody tr th:only-of-type {\n",
              "        vertical-align: middle;\n",
              "    }\n",
              "\n",
              "    .dataframe tbody tr th {\n",
              "        vertical-align: top;\n",
              "    }\n",
              "\n",
              "    .dataframe thead th {\n",
              "        text-align: right;\n",
              "    }\n",
              "</style>\n",
              "<table border=\"1\" class=\"dataframe\">\n",
              "  <thead>\n",
              "    <tr style=\"text-align: right;\">\n",
              "      <th></th>\n",
              "      <th>Breathing Problem</th>\n",
              "      <th>Fever</th>\n",
              "      <th>Dry Cough</th>\n",
              "      <th>Sore throat</th>\n",
              "      <th>Running Nose</th>\n",
              "      <th>Asthma</th>\n",
              "      <th>Chronic Lung Disease</th>\n",
              "      <th>Headache</th>\n",
              "      <th>Heart Disease</th>\n",
              "      <th>Diabetes</th>\n",
              "      <th>Hyper Tension</th>\n",
              "      <th>Fatigue</th>\n",
              "      <th>Gastrointestinal</th>\n",
              "      <th>Abroad travel</th>\n",
              "      <th>Contact with COVID Patient</th>\n",
              "      <th>Attended Large Gathering</th>\n",
              "      <th>Visited Public Exposed Places</th>\n",
              "      <th>Family working in Public Exposed Places</th>\n",
              "      <th>Wearing Masks</th>\n",
              "      <th>Sanitization from Market</th>\n",
              "      <th>COVID-19</th>\n",
              "    </tr>\n",
              "  </thead>\n",
              "  <tbody>\n",
              "    <tr>\n",
              "      <th>0</th>\n",
              "      <td>1</td>\n",
              "      <td>1</td>\n",
              "      <td>1</td>\n",
              "      <td>1</td>\n",
              "      <td>1</td>\n",
              "      <td>0</td>\n",
              "      <td>0</td>\n",
              "      <td>0</td>\n",
              "      <td>0</td>\n",
              "      <td>1</td>\n",
              "      <td>1</td>\n",
              "      <td>Yes</td>\n",
              "      <td>Yes</td>\n",
              "      <td>0</td>\n",
              "      <td>1</td>\n",
              "      <td>0</td>\n",
              "      <td>1</td>\n",
              "      <td>1</td>\n",
              "      <td>0</td>\n",
              "      <td>0</td>\n",
              "      <td>1</td>\n",
              "    </tr>\n",
              "    <tr>\n",
              "      <th>1</th>\n",
              "      <td>1</td>\n",
              "      <td>1</td>\n",
              "      <td>1</td>\n",
              "      <td>1</td>\n",
              "      <td>0</td>\n",
              "      <td>1</td>\n",
              "      <td>1</td>\n",
              "      <td>1</td>\n",
              "      <td>0</td>\n",
              "      <td>0</td>\n",
              "      <td>0</td>\n",
              "      <td>Yes</td>\n",
              "      <td>No</td>\n",
              "      <td>0</td>\n",
              "      <td>0</td>\n",
              "      <td>1</td>\n",
              "      <td>1</td>\n",
              "      <td>0</td>\n",
              "      <td>0</td>\n",
              "      <td>0</td>\n",
              "      <td>1</td>\n",
              "    </tr>\n",
              "    <tr>\n",
              "      <th>2</th>\n",
              "      <td>1</td>\n",
              "      <td>1</td>\n",
              "      <td>1</td>\n",
              "      <td>1</td>\n",
              "      <td>1</td>\n",
              "      <td>1</td>\n",
              "      <td>1</td>\n",
              "      <td>1</td>\n",
              "      <td>0</td>\n",
              "      <td>1</td>\n",
              "      <td>0</td>\n",
              "      <td>Yes</td>\n",
              "      <td>Yes</td>\n",
              "      <td>1</td>\n",
              "      <td>0</td>\n",
              "      <td>0</td>\n",
              "      <td>0</td>\n",
              "      <td>0</td>\n",
              "      <td>0</td>\n",
              "      <td>0</td>\n",
              "      <td>1</td>\n",
              "    </tr>\n",
              "    <tr>\n",
              "      <th>3</th>\n",
              "      <td>1</td>\n",
              "      <td>1</td>\n",
              "      <td>1</td>\n",
              "      <td>0</td>\n",
              "      <td>0</td>\n",
              "      <td>1</td>\n",
              "      <td>0</td>\n",
              "      <td>0</td>\n",
              "      <td>1</td>\n",
              "      <td>1</td>\n",
              "      <td>0</td>\n",
              "      <td>No</td>\n",
              "      <td>No</td>\n",
              "      <td>1</td>\n",
              "      <td>0</td>\n",
              "      <td>1</td>\n",
              "      <td>1</td>\n",
              "      <td>0</td>\n",
              "      <td>0</td>\n",
              "      <td>0</td>\n",
              "      <td>1</td>\n",
              "    </tr>\n",
              "    <tr>\n",
              "      <th>4</th>\n",
              "      <td>1</td>\n",
              "      <td>1</td>\n",
              "      <td>1</td>\n",
              "      <td>1</td>\n",
              "      <td>1</td>\n",
              "      <td>0</td>\n",
              "      <td>1</td>\n",
              "      <td>1</td>\n",
              "      <td>1</td>\n",
              "      <td>1</td>\n",
              "      <td>1</td>\n",
              "      <td>No</td>\n",
              "      <td>Yes</td>\n",
              "      <td>0</td>\n",
              "      <td>1</td>\n",
              "      <td>0</td>\n",
              "      <td>1</td>\n",
              "      <td>0</td>\n",
              "      <td>0</td>\n",
              "      <td>0</td>\n",
              "      <td>1</td>\n",
              "    </tr>\n",
              "  </tbody>\n",
              "</table>\n",
              "</div>"
            ],
            "text/plain": [
              "   Breathing Problem  Fever  ...  Sanitization from Market  COVID-19\n",
              "0                  1      1  ...                         0         1\n",
              "1                  1      1  ...                         0         1\n",
              "2                  1      1  ...                         0         1\n",
              "3                  1      1  ...                         0         1\n",
              "4                  1      1  ...                         0         1\n",
              "\n",
              "[5 rows x 21 columns]"
            ]
          },
          "metadata": {
            "tags": []
          },
          "execution_count": 10
        }
      ]
    },
    {
      "cell_type": "code",
      "metadata": {
        "id": "CQEBNrDve2EN"
      },
      "source": [
        "covid_a = {\"Fatigue\": {\"Yes\":1, \"No\":0 }}"
      ],
      "execution_count": null,
      "outputs": []
    },
    {
      "cell_type": "code",
      "metadata": {
        "colab": {
          "base_uri": "https://localhost:8080/",
          "height": 313
        },
        "id": "PvASVz27e6q6",
        "outputId": "46cb144c-3f6c-4504-e8d7-635c8702aa41"
      },
      "source": [
        "covid = covid.replace(covid_a)\n",
        "covid.head(5)"
      ],
      "execution_count": null,
      "outputs": [
        {
          "output_type": "execute_result",
          "data": {
            "text/html": [
              "<div>\n",
              "<style scoped>\n",
              "    .dataframe tbody tr th:only-of-type {\n",
              "        vertical-align: middle;\n",
              "    }\n",
              "\n",
              "    .dataframe tbody tr th {\n",
              "        vertical-align: top;\n",
              "    }\n",
              "\n",
              "    .dataframe thead th {\n",
              "        text-align: right;\n",
              "    }\n",
              "</style>\n",
              "<table border=\"1\" class=\"dataframe\">\n",
              "  <thead>\n",
              "    <tr style=\"text-align: right;\">\n",
              "      <th></th>\n",
              "      <th>Breathing Problem</th>\n",
              "      <th>Fever</th>\n",
              "      <th>Dry Cough</th>\n",
              "      <th>Sore throat</th>\n",
              "      <th>Running Nose</th>\n",
              "      <th>Asthma</th>\n",
              "      <th>Chronic Lung Disease</th>\n",
              "      <th>Headache</th>\n",
              "      <th>Heart Disease</th>\n",
              "      <th>Diabetes</th>\n",
              "      <th>Hyper Tension</th>\n",
              "      <th>Fatigue</th>\n",
              "      <th>Gastrointestinal</th>\n",
              "      <th>Abroad travel</th>\n",
              "      <th>Contact with COVID Patient</th>\n",
              "      <th>Attended Large Gathering</th>\n",
              "      <th>Visited Public Exposed Places</th>\n",
              "      <th>Family working in Public Exposed Places</th>\n",
              "      <th>Wearing Masks</th>\n",
              "      <th>Sanitization from Market</th>\n",
              "      <th>COVID-19</th>\n",
              "    </tr>\n",
              "  </thead>\n",
              "  <tbody>\n",
              "    <tr>\n",
              "      <th>0</th>\n",
              "      <td>1</td>\n",
              "      <td>1</td>\n",
              "      <td>1</td>\n",
              "      <td>1</td>\n",
              "      <td>1</td>\n",
              "      <td>0</td>\n",
              "      <td>0</td>\n",
              "      <td>0</td>\n",
              "      <td>0</td>\n",
              "      <td>1</td>\n",
              "      <td>1</td>\n",
              "      <td>Yes</td>\n",
              "      <td>Yes</td>\n",
              "      <td>0</td>\n",
              "      <td>1</td>\n",
              "      <td>0</td>\n",
              "      <td>1</td>\n",
              "      <td>1</td>\n",
              "      <td>0</td>\n",
              "      <td>0</td>\n",
              "      <td>1</td>\n",
              "    </tr>\n",
              "    <tr>\n",
              "      <th>1</th>\n",
              "      <td>1</td>\n",
              "      <td>1</td>\n",
              "      <td>1</td>\n",
              "      <td>1</td>\n",
              "      <td>0</td>\n",
              "      <td>1</td>\n",
              "      <td>1</td>\n",
              "      <td>1</td>\n",
              "      <td>0</td>\n",
              "      <td>0</td>\n",
              "      <td>0</td>\n",
              "      <td>Yes</td>\n",
              "      <td>No</td>\n",
              "      <td>0</td>\n",
              "      <td>0</td>\n",
              "      <td>1</td>\n",
              "      <td>1</td>\n",
              "      <td>0</td>\n",
              "      <td>0</td>\n",
              "      <td>0</td>\n",
              "      <td>1</td>\n",
              "    </tr>\n",
              "    <tr>\n",
              "      <th>2</th>\n",
              "      <td>1</td>\n",
              "      <td>1</td>\n",
              "      <td>1</td>\n",
              "      <td>1</td>\n",
              "      <td>1</td>\n",
              "      <td>1</td>\n",
              "      <td>1</td>\n",
              "      <td>1</td>\n",
              "      <td>0</td>\n",
              "      <td>1</td>\n",
              "      <td>0</td>\n",
              "      <td>Yes</td>\n",
              "      <td>Yes</td>\n",
              "      <td>1</td>\n",
              "      <td>0</td>\n",
              "      <td>0</td>\n",
              "      <td>0</td>\n",
              "      <td>0</td>\n",
              "      <td>0</td>\n",
              "      <td>0</td>\n",
              "      <td>1</td>\n",
              "    </tr>\n",
              "    <tr>\n",
              "      <th>3</th>\n",
              "      <td>1</td>\n",
              "      <td>1</td>\n",
              "      <td>1</td>\n",
              "      <td>0</td>\n",
              "      <td>0</td>\n",
              "      <td>1</td>\n",
              "      <td>0</td>\n",
              "      <td>0</td>\n",
              "      <td>1</td>\n",
              "      <td>1</td>\n",
              "      <td>0</td>\n",
              "      <td>No</td>\n",
              "      <td>No</td>\n",
              "      <td>1</td>\n",
              "      <td>0</td>\n",
              "      <td>1</td>\n",
              "      <td>1</td>\n",
              "      <td>0</td>\n",
              "      <td>0</td>\n",
              "      <td>0</td>\n",
              "      <td>1</td>\n",
              "    </tr>\n",
              "    <tr>\n",
              "      <th>4</th>\n",
              "      <td>1</td>\n",
              "      <td>1</td>\n",
              "      <td>1</td>\n",
              "      <td>1</td>\n",
              "      <td>1</td>\n",
              "      <td>0</td>\n",
              "      <td>1</td>\n",
              "      <td>1</td>\n",
              "      <td>1</td>\n",
              "      <td>1</td>\n",
              "      <td>1</td>\n",
              "      <td>No</td>\n",
              "      <td>Yes</td>\n",
              "      <td>0</td>\n",
              "      <td>1</td>\n",
              "      <td>0</td>\n",
              "      <td>1</td>\n",
              "      <td>0</td>\n",
              "      <td>0</td>\n",
              "      <td>0</td>\n",
              "      <td>1</td>\n",
              "    </tr>\n",
              "  </tbody>\n",
              "</table>\n",
              "</div>"
            ],
            "text/plain": [
              "   Breathing Problem  Fever  ...  Sanitization from Market  COVID-19\n",
              "0                  1      1  ...                         0         1\n",
              "1                  1      1  ...                         0         1\n",
              "2                  1      1  ...                         0         1\n",
              "3                  1      1  ...                         0         1\n",
              "4                  1      1  ...                         0         1\n",
              "\n",
              "[5 rows x 21 columns]"
            ]
          },
          "metadata": {
            "tags": []
          },
          "execution_count": 12
        }
      ]
    },
    {
      "cell_type": "code",
      "metadata": {
        "id": "9r0kuioufBeI"
      },
      "source": [
        "from sklearn.preprocessing import LabelEncoder\n",
        "labelencoder = LabelEncoder()\n",
        "\n",
        "covid_new_d = pd.DataFrame()\n",
        "for i in covid.columns:\n",
        "  covid_new_d[i] = labelencoder.fit_transform(covid[i])\n"
      ],
      "execution_count": null,
      "outputs": []
    },
    {
      "cell_type": "code",
      "metadata": {
        "colab": {
          "base_uri": "https://localhost:8080/",
          "height": 530
        },
        "id": "cLRvUQ9UfI5Z",
        "outputId": "df0781c5-6d83-48c7-f7f1-99ed98a0fb6b"
      },
      "source": [
        "covid_new_d"
      ],
      "execution_count": null,
      "outputs": [
        {
          "output_type": "execute_result",
          "data": {
            "text/html": [
              "<div>\n",
              "<style scoped>\n",
              "    .dataframe tbody tr th:only-of-type {\n",
              "        vertical-align: middle;\n",
              "    }\n",
              "\n",
              "    .dataframe tbody tr th {\n",
              "        vertical-align: top;\n",
              "    }\n",
              "\n",
              "    .dataframe thead th {\n",
              "        text-align: right;\n",
              "    }\n",
              "</style>\n",
              "<table border=\"1\" class=\"dataframe\">\n",
              "  <thead>\n",
              "    <tr style=\"text-align: right;\">\n",
              "      <th></th>\n",
              "      <th>Breathing Problem</th>\n",
              "      <th>Fever</th>\n",
              "      <th>Dry Cough</th>\n",
              "      <th>Sore throat</th>\n",
              "      <th>Running Nose</th>\n",
              "      <th>Asthma</th>\n",
              "      <th>Chronic Lung Disease</th>\n",
              "      <th>Headache</th>\n",
              "      <th>Heart Disease</th>\n",
              "      <th>Diabetes</th>\n",
              "      <th>Hyper Tension</th>\n",
              "      <th>Fatigue</th>\n",
              "      <th>Gastrointestinal</th>\n",
              "      <th>Abroad travel</th>\n",
              "      <th>Contact with COVID Patient</th>\n",
              "      <th>Attended Large Gathering</th>\n",
              "      <th>Visited Public Exposed Places</th>\n",
              "      <th>Family working in Public Exposed Places</th>\n",
              "      <th>Wearing Masks</th>\n",
              "      <th>Sanitization from Market</th>\n",
              "      <th>COVID-19</th>\n",
              "    </tr>\n",
              "  </thead>\n",
              "  <tbody>\n",
              "    <tr>\n",
              "      <th>0</th>\n",
              "      <td>1</td>\n",
              "      <td>1</td>\n",
              "      <td>1</td>\n",
              "      <td>1</td>\n",
              "      <td>1</td>\n",
              "      <td>0</td>\n",
              "      <td>0</td>\n",
              "      <td>0</td>\n",
              "      <td>0</td>\n",
              "      <td>1</td>\n",
              "      <td>1</td>\n",
              "      <td>1</td>\n",
              "      <td>1</td>\n",
              "      <td>0</td>\n",
              "      <td>1</td>\n",
              "      <td>0</td>\n",
              "      <td>1</td>\n",
              "      <td>1</td>\n",
              "      <td>0</td>\n",
              "      <td>0</td>\n",
              "      <td>1</td>\n",
              "    </tr>\n",
              "    <tr>\n",
              "      <th>1</th>\n",
              "      <td>1</td>\n",
              "      <td>1</td>\n",
              "      <td>1</td>\n",
              "      <td>1</td>\n",
              "      <td>0</td>\n",
              "      <td>1</td>\n",
              "      <td>1</td>\n",
              "      <td>1</td>\n",
              "      <td>0</td>\n",
              "      <td>0</td>\n",
              "      <td>0</td>\n",
              "      <td>1</td>\n",
              "      <td>0</td>\n",
              "      <td>0</td>\n",
              "      <td>0</td>\n",
              "      <td>1</td>\n",
              "      <td>1</td>\n",
              "      <td>0</td>\n",
              "      <td>0</td>\n",
              "      <td>0</td>\n",
              "      <td>1</td>\n",
              "    </tr>\n",
              "    <tr>\n",
              "      <th>2</th>\n",
              "      <td>1</td>\n",
              "      <td>1</td>\n",
              "      <td>1</td>\n",
              "      <td>1</td>\n",
              "      <td>1</td>\n",
              "      <td>1</td>\n",
              "      <td>1</td>\n",
              "      <td>1</td>\n",
              "      <td>0</td>\n",
              "      <td>1</td>\n",
              "      <td>0</td>\n",
              "      <td>1</td>\n",
              "      <td>1</td>\n",
              "      <td>1</td>\n",
              "      <td>0</td>\n",
              "      <td>0</td>\n",
              "      <td>0</td>\n",
              "      <td>0</td>\n",
              "      <td>0</td>\n",
              "      <td>0</td>\n",
              "      <td>1</td>\n",
              "    </tr>\n",
              "    <tr>\n",
              "      <th>3</th>\n",
              "      <td>1</td>\n",
              "      <td>1</td>\n",
              "      <td>1</td>\n",
              "      <td>0</td>\n",
              "      <td>0</td>\n",
              "      <td>1</td>\n",
              "      <td>0</td>\n",
              "      <td>0</td>\n",
              "      <td>1</td>\n",
              "      <td>1</td>\n",
              "      <td>0</td>\n",
              "      <td>0</td>\n",
              "      <td>0</td>\n",
              "      <td>1</td>\n",
              "      <td>0</td>\n",
              "      <td>1</td>\n",
              "      <td>1</td>\n",
              "      <td>0</td>\n",
              "      <td>0</td>\n",
              "      <td>0</td>\n",
              "      <td>1</td>\n",
              "    </tr>\n",
              "    <tr>\n",
              "      <th>4</th>\n",
              "      <td>1</td>\n",
              "      <td>1</td>\n",
              "      <td>1</td>\n",
              "      <td>1</td>\n",
              "      <td>1</td>\n",
              "      <td>0</td>\n",
              "      <td>1</td>\n",
              "      <td>1</td>\n",
              "      <td>1</td>\n",
              "      <td>1</td>\n",
              "      <td>1</td>\n",
              "      <td>0</td>\n",
              "      <td>1</td>\n",
              "      <td>0</td>\n",
              "      <td>1</td>\n",
              "      <td>0</td>\n",
              "      <td>1</td>\n",
              "      <td>0</td>\n",
              "      <td>0</td>\n",
              "      <td>0</td>\n",
              "      <td>1</td>\n",
              "    </tr>\n",
              "    <tr>\n",
              "      <th>...</th>\n",
              "      <td>...</td>\n",
              "      <td>...</td>\n",
              "      <td>...</td>\n",
              "      <td>...</td>\n",
              "      <td>...</td>\n",
              "      <td>...</td>\n",
              "      <td>...</td>\n",
              "      <td>...</td>\n",
              "      <td>...</td>\n",
              "      <td>...</td>\n",
              "      <td>...</td>\n",
              "      <td>...</td>\n",
              "      <td>...</td>\n",
              "      <td>...</td>\n",
              "      <td>...</td>\n",
              "      <td>...</td>\n",
              "      <td>...</td>\n",
              "      <td>...</td>\n",
              "      <td>...</td>\n",
              "      <td>...</td>\n",
              "      <td>...</td>\n",
              "    </tr>\n",
              "    <tr>\n",
              "      <th>5429</th>\n",
              "      <td>1</td>\n",
              "      <td>1</td>\n",
              "      <td>0</td>\n",
              "      <td>1</td>\n",
              "      <td>1</td>\n",
              "      <td>1</td>\n",
              "      <td>1</td>\n",
              "      <td>0</td>\n",
              "      <td>0</td>\n",
              "      <td>0</td>\n",
              "      <td>0</td>\n",
              "      <td>1</td>\n",
              "      <td>1</td>\n",
              "      <td>0</td>\n",
              "      <td>0</td>\n",
              "      <td>0</td>\n",
              "      <td>0</td>\n",
              "      <td>0</td>\n",
              "      <td>0</td>\n",
              "      <td>0</td>\n",
              "      <td>1</td>\n",
              "    </tr>\n",
              "    <tr>\n",
              "      <th>5430</th>\n",
              "      <td>1</td>\n",
              "      <td>1</td>\n",
              "      <td>1</td>\n",
              "      <td>0</td>\n",
              "      <td>1</td>\n",
              "      <td>1</td>\n",
              "      <td>0</td>\n",
              "      <td>1</td>\n",
              "      <td>0</td>\n",
              "      <td>1</td>\n",
              "      <td>1</td>\n",
              "      <td>1</td>\n",
              "      <td>0</td>\n",
              "      <td>0</td>\n",
              "      <td>0</td>\n",
              "      <td>0</td>\n",
              "      <td>0</td>\n",
              "      <td>0</td>\n",
              "      <td>0</td>\n",
              "      <td>0</td>\n",
              "      <td>1</td>\n",
              "    </tr>\n",
              "    <tr>\n",
              "      <th>5431</th>\n",
              "      <td>1</td>\n",
              "      <td>1</td>\n",
              "      <td>1</td>\n",
              "      <td>0</td>\n",
              "      <td>0</td>\n",
              "      <td>0</td>\n",
              "      <td>0</td>\n",
              "      <td>0</td>\n",
              "      <td>1</td>\n",
              "      <td>0</td>\n",
              "      <td>1</td>\n",
              "      <td>0</td>\n",
              "      <td>0</td>\n",
              "      <td>0</td>\n",
              "      <td>0</td>\n",
              "      <td>0</td>\n",
              "      <td>0</td>\n",
              "      <td>0</td>\n",
              "      <td>0</td>\n",
              "      <td>0</td>\n",
              "      <td>0</td>\n",
              "    </tr>\n",
              "    <tr>\n",
              "      <th>5432</th>\n",
              "      <td>1</td>\n",
              "      <td>1</td>\n",
              "      <td>1</td>\n",
              "      <td>0</td>\n",
              "      <td>1</td>\n",
              "      <td>0</td>\n",
              "      <td>0</td>\n",
              "      <td>1</td>\n",
              "      <td>1</td>\n",
              "      <td>0</td>\n",
              "      <td>0</td>\n",
              "      <td>0</td>\n",
              "      <td>0</td>\n",
              "      <td>0</td>\n",
              "      <td>0</td>\n",
              "      <td>0</td>\n",
              "      <td>0</td>\n",
              "      <td>0</td>\n",
              "      <td>0</td>\n",
              "      <td>0</td>\n",
              "      <td>0</td>\n",
              "    </tr>\n",
              "    <tr>\n",
              "      <th>5433</th>\n",
              "      <td>1</td>\n",
              "      <td>1</td>\n",
              "      <td>1</td>\n",
              "      <td>0</td>\n",
              "      <td>1</td>\n",
              "      <td>1</td>\n",
              "      <td>0</td>\n",
              "      <td>1</td>\n",
              "      <td>0</td>\n",
              "      <td>1</td>\n",
              "      <td>1</td>\n",
              "      <td>1</td>\n",
              "      <td>0</td>\n",
              "      <td>0</td>\n",
              "      <td>0</td>\n",
              "      <td>0</td>\n",
              "      <td>0</td>\n",
              "      <td>0</td>\n",
              "      <td>0</td>\n",
              "      <td>0</td>\n",
              "      <td>0</td>\n",
              "    </tr>\n",
              "  </tbody>\n",
              "</table>\n",
              "<p>5434 rows × 21 columns</p>\n",
              "</div>"
            ],
            "text/plain": [
              "      Breathing Problem  Fever  ...  Sanitization from Market  COVID-19\n",
              "0                     1      1  ...                         0         1\n",
              "1                     1      1  ...                         0         1\n",
              "2                     1      1  ...                         0         1\n",
              "3                     1      1  ...                         0         1\n",
              "4                     1      1  ...                         0         1\n",
              "...                 ...    ...  ...                       ...       ...\n",
              "5429                  1      1  ...                         0         1\n",
              "5430                  1      1  ...                         0         1\n",
              "5431                  1      1  ...                         0         0\n",
              "5432                  1      1  ...                         0         0\n",
              "5433                  1      1  ...                         0         0\n",
              "\n",
              "[5434 rows x 21 columns]"
            ]
          },
          "metadata": {
            "tags": []
          },
          "execution_count": 14
        }
      ]
    },
    {
      "cell_type": "code",
      "metadata": {
        "colab": {
          "base_uri": "https://localhost:8080/",
          "height": 313
        },
        "id": "Jtres8ACfLft",
        "outputId": "b1350e65-e3ea-4a8c-8be8-0dec0862aeba"
      },
      "source": [
        "covid = covid_new_d\n",
        "covid.head(5)"
      ],
      "execution_count": null,
      "outputs": [
        {
          "output_type": "execute_result",
          "data": {
            "text/html": [
              "<div>\n",
              "<style scoped>\n",
              "    .dataframe tbody tr th:only-of-type {\n",
              "        vertical-align: middle;\n",
              "    }\n",
              "\n",
              "    .dataframe tbody tr th {\n",
              "        vertical-align: top;\n",
              "    }\n",
              "\n",
              "    .dataframe thead th {\n",
              "        text-align: right;\n",
              "    }\n",
              "</style>\n",
              "<table border=\"1\" class=\"dataframe\">\n",
              "  <thead>\n",
              "    <tr style=\"text-align: right;\">\n",
              "      <th></th>\n",
              "      <th>Breathing Problem</th>\n",
              "      <th>Fever</th>\n",
              "      <th>Dry Cough</th>\n",
              "      <th>Sore throat</th>\n",
              "      <th>Running Nose</th>\n",
              "      <th>Asthma</th>\n",
              "      <th>Chronic Lung Disease</th>\n",
              "      <th>Headache</th>\n",
              "      <th>Heart Disease</th>\n",
              "      <th>Diabetes</th>\n",
              "      <th>Hyper Tension</th>\n",
              "      <th>Fatigue</th>\n",
              "      <th>Gastrointestinal</th>\n",
              "      <th>Abroad travel</th>\n",
              "      <th>Contact with COVID Patient</th>\n",
              "      <th>Attended Large Gathering</th>\n",
              "      <th>Visited Public Exposed Places</th>\n",
              "      <th>Family working in Public Exposed Places</th>\n",
              "      <th>Wearing Masks</th>\n",
              "      <th>Sanitization from Market</th>\n",
              "      <th>COVID-19</th>\n",
              "    </tr>\n",
              "  </thead>\n",
              "  <tbody>\n",
              "    <tr>\n",
              "      <th>0</th>\n",
              "      <td>1</td>\n",
              "      <td>1</td>\n",
              "      <td>1</td>\n",
              "      <td>1</td>\n",
              "      <td>1</td>\n",
              "      <td>0</td>\n",
              "      <td>0</td>\n",
              "      <td>0</td>\n",
              "      <td>0</td>\n",
              "      <td>1</td>\n",
              "      <td>1</td>\n",
              "      <td>1</td>\n",
              "      <td>1</td>\n",
              "      <td>0</td>\n",
              "      <td>1</td>\n",
              "      <td>0</td>\n",
              "      <td>1</td>\n",
              "      <td>1</td>\n",
              "      <td>0</td>\n",
              "      <td>0</td>\n",
              "      <td>1</td>\n",
              "    </tr>\n",
              "    <tr>\n",
              "      <th>1</th>\n",
              "      <td>1</td>\n",
              "      <td>1</td>\n",
              "      <td>1</td>\n",
              "      <td>1</td>\n",
              "      <td>0</td>\n",
              "      <td>1</td>\n",
              "      <td>1</td>\n",
              "      <td>1</td>\n",
              "      <td>0</td>\n",
              "      <td>0</td>\n",
              "      <td>0</td>\n",
              "      <td>1</td>\n",
              "      <td>0</td>\n",
              "      <td>0</td>\n",
              "      <td>0</td>\n",
              "      <td>1</td>\n",
              "      <td>1</td>\n",
              "      <td>0</td>\n",
              "      <td>0</td>\n",
              "      <td>0</td>\n",
              "      <td>1</td>\n",
              "    </tr>\n",
              "    <tr>\n",
              "      <th>2</th>\n",
              "      <td>1</td>\n",
              "      <td>1</td>\n",
              "      <td>1</td>\n",
              "      <td>1</td>\n",
              "      <td>1</td>\n",
              "      <td>1</td>\n",
              "      <td>1</td>\n",
              "      <td>1</td>\n",
              "      <td>0</td>\n",
              "      <td>1</td>\n",
              "      <td>0</td>\n",
              "      <td>1</td>\n",
              "      <td>1</td>\n",
              "      <td>1</td>\n",
              "      <td>0</td>\n",
              "      <td>0</td>\n",
              "      <td>0</td>\n",
              "      <td>0</td>\n",
              "      <td>0</td>\n",
              "      <td>0</td>\n",
              "      <td>1</td>\n",
              "    </tr>\n",
              "    <tr>\n",
              "      <th>3</th>\n",
              "      <td>1</td>\n",
              "      <td>1</td>\n",
              "      <td>1</td>\n",
              "      <td>0</td>\n",
              "      <td>0</td>\n",
              "      <td>1</td>\n",
              "      <td>0</td>\n",
              "      <td>0</td>\n",
              "      <td>1</td>\n",
              "      <td>1</td>\n",
              "      <td>0</td>\n",
              "      <td>0</td>\n",
              "      <td>0</td>\n",
              "      <td>1</td>\n",
              "      <td>0</td>\n",
              "      <td>1</td>\n",
              "      <td>1</td>\n",
              "      <td>0</td>\n",
              "      <td>0</td>\n",
              "      <td>0</td>\n",
              "      <td>1</td>\n",
              "    </tr>\n",
              "    <tr>\n",
              "      <th>4</th>\n",
              "      <td>1</td>\n",
              "      <td>1</td>\n",
              "      <td>1</td>\n",
              "      <td>1</td>\n",
              "      <td>1</td>\n",
              "      <td>0</td>\n",
              "      <td>1</td>\n",
              "      <td>1</td>\n",
              "      <td>1</td>\n",
              "      <td>1</td>\n",
              "      <td>1</td>\n",
              "      <td>0</td>\n",
              "      <td>1</td>\n",
              "      <td>0</td>\n",
              "      <td>1</td>\n",
              "      <td>0</td>\n",
              "      <td>1</td>\n",
              "      <td>0</td>\n",
              "      <td>0</td>\n",
              "      <td>0</td>\n",
              "      <td>1</td>\n",
              "    </tr>\n",
              "  </tbody>\n",
              "</table>\n",
              "</div>"
            ],
            "text/plain": [
              "   Breathing Problem  Fever  ...  Sanitization from Market  COVID-19\n",
              "0                  1      1  ...                         0         1\n",
              "1                  1      1  ...                         0         1\n",
              "2                  1      1  ...                         0         1\n",
              "3                  1      1  ...                         0         1\n",
              "4                  1      1  ...                         0         1\n",
              "\n",
              "[5 rows x 21 columns]"
            ]
          },
          "metadata": {
            "tags": []
          },
          "execution_count": 15
        }
      ]
    },
    {
      "cell_type": "code",
      "metadata": {
        "colab": {
          "base_uri": "https://localhost:8080/"
        },
        "id": "ljR4PEUqfbm6",
        "outputId": "f5accde4-ab9e-41ed-ab7f-570fd1adb2f2"
      },
      "source": [
        "covid.isnull().any() "
      ],
      "execution_count": null,
      "outputs": [
        {
          "output_type": "execute_result",
          "data": {
            "text/plain": [
              "Breathing Problem                          False\n",
              "Fever                                      False\n",
              "Dry Cough                                  False\n",
              "Sore throat                                False\n",
              "Running Nose                               False\n",
              "Asthma                                     False\n",
              "Chronic Lung Disease                       False\n",
              "Headache                                   False\n",
              "Heart Disease                              False\n",
              "Diabetes                                   False\n",
              "Hyper Tension                              False\n",
              "Fatigue                                    False\n",
              "Gastrointestinal                           False\n",
              "Abroad travel                              False\n",
              "Contact with COVID Patient                 False\n",
              "Attended Large Gathering                   False\n",
              "Visited Public Exposed Places              False\n",
              "Family working in Public Exposed Places    False\n",
              "Wearing Masks                              False\n",
              "Sanitization from Market                   False\n",
              "COVID-19                                   False\n",
              "dtype: bool"
            ]
          },
          "metadata": {
            "tags": []
          },
          "execution_count": 16
        }
      ]
    },
    {
      "cell_type": "code",
      "metadata": {
        "colab": {
          "base_uri": "https://localhost:8080/"
        },
        "id": "OwpTWoopfkmI",
        "outputId": "9ce8afcf-d8e2-4598-95d0-5787b9448af3"
      },
      "source": [
        "covid.info()"
      ],
      "execution_count": null,
      "outputs": [
        {
          "output_type": "stream",
          "text": [
            "<class 'pandas.core.frame.DataFrame'>\n",
            "RangeIndex: 5434 entries, 0 to 5433\n",
            "Data columns (total 21 columns):\n",
            " #   Column                                   Non-Null Count  Dtype\n",
            "---  ------                                   --------------  -----\n",
            " 0   Breathing Problem                        5434 non-null   int64\n",
            " 1   Fever                                    5434 non-null   int64\n",
            " 2   Dry Cough                                5434 non-null   int64\n",
            " 3   Sore throat                              5434 non-null   int64\n",
            " 4   Running Nose                             5434 non-null   int64\n",
            " 5   Asthma                                   5434 non-null   int64\n",
            " 6   Chronic Lung Disease                     5434 non-null   int64\n",
            " 7   Headache                                 5434 non-null   int64\n",
            " 8   Heart Disease                            5434 non-null   int64\n",
            " 9   Diabetes                                 5434 non-null   int64\n",
            " 10  Hyper Tension                            5434 non-null   int64\n",
            " 11  Fatigue                                  5434 non-null   int64\n",
            " 12  Gastrointestinal                         5434 non-null   int64\n",
            " 13  Abroad travel                            5434 non-null   int64\n",
            " 14  Contact with COVID Patient               5434 non-null   int64\n",
            " 15  Attended Large Gathering                 5434 non-null   int64\n",
            " 16  Visited Public Exposed Places            5434 non-null   int64\n",
            " 17  Family working in Public Exposed Places  5434 non-null   int64\n",
            " 18  Wearing Masks                            5434 non-null   int64\n",
            " 19  Sanitization from Market                 5434 non-null   int64\n",
            " 20  COVID-19                                 5434 non-null   int64\n",
            "dtypes: int64(21)\n",
            "memory usage: 891.6 KB\n"
          ],
          "name": "stdout"
        }
      ]
    },
    {
      "cell_type": "code",
      "metadata": {
        "colab": {
          "base_uri": "https://localhost:8080/",
          "height": 389
        },
        "id": "bm7kmoJHfoAr",
        "outputId": "853b7b9a-bf7b-4952-8811-892f935760f3"
      },
      "source": [
        "covid.describe(include='all')"
      ],
      "execution_count": null,
      "outputs": [
        {
          "output_type": "execute_result",
          "data": {
            "text/html": [
              "<div>\n",
              "<style scoped>\n",
              "    .dataframe tbody tr th:only-of-type {\n",
              "        vertical-align: middle;\n",
              "    }\n",
              "\n",
              "    .dataframe tbody tr th {\n",
              "        vertical-align: top;\n",
              "    }\n",
              "\n",
              "    .dataframe thead th {\n",
              "        text-align: right;\n",
              "    }\n",
              "</style>\n",
              "<table border=\"1\" class=\"dataframe\">\n",
              "  <thead>\n",
              "    <tr style=\"text-align: right;\">\n",
              "      <th></th>\n",
              "      <th>Breathing Problem</th>\n",
              "      <th>Fever</th>\n",
              "      <th>Dry Cough</th>\n",
              "      <th>Sore throat</th>\n",
              "      <th>Running Nose</th>\n",
              "      <th>Asthma</th>\n",
              "      <th>Chronic Lung Disease</th>\n",
              "      <th>Headache</th>\n",
              "      <th>Heart Disease</th>\n",
              "      <th>Diabetes</th>\n",
              "      <th>Hyper Tension</th>\n",
              "      <th>Fatigue</th>\n",
              "      <th>Gastrointestinal</th>\n",
              "      <th>Abroad travel</th>\n",
              "      <th>Contact with COVID Patient</th>\n",
              "      <th>Attended Large Gathering</th>\n",
              "      <th>Visited Public Exposed Places</th>\n",
              "      <th>Family working in Public Exposed Places</th>\n",
              "      <th>Wearing Masks</th>\n",
              "      <th>Sanitization from Market</th>\n",
              "      <th>COVID-19</th>\n",
              "    </tr>\n",
              "  </thead>\n",
              "  <tbody>\n",
              "    <tr>\n",
              "      <th>count</th>\n",
              "      <td>5434.000000</td>\n",
              "      <td>5434.000000</td>\n",
              "      <td>5434.000000</td>\n",
              "      <td>5434.000000</td>\n",
              "      <td>5434.000000</td>\n",
              "      <td>5434.000000</td>\n",
              "      <td>5434.000000</td>\n",
              "      <td>5434.000000</td>\n",
              "      <td>5434.000000</td>\n",
              "      <td>5434.000000</td>\n",
              "      <td>5434.000000</td>\n",
              "      <td>5434.000000</td>\n",
              "      <td>5434.000000</td>\n",
              "      <td>5434.000000</td>\n",
              "      <td>5434.000000</td>\n",
              "      <td>5434.000000</td>\n",
              "      <td>5434.000000</td>\n",
              "      <td>5434.000000</td>\n",
              "      <td>5434.0</td>\n",
              "      <td>5434.0</td>\n",
              "      <td>5434.000000</td>\n",
              "    </tr>\n",
              "    <tr>\n",
              "      <th>mean</th>\n",
              "      <td>0.666176</td>\n",
              "      <td>0.786345</td>\n",
              "      <td>0.792602</td>\n",
              "      <td>0.727457</td>\n",
              "      <td>0.543246</td>\n",
              "      <td>0.462643</td>\n",
              "      <td>0.472028</td>\n",
              "      <td>0.503497</td>\n",
              "      <td>0.464299</td>\n",
              "      <td>0.476261</td>\n",
              "      <td>0.490063</td>\n",
              "      <td>0.519139</td>\n",
              "      <td>0.469452</td>\n",
              "      <td>0.451049</td>\n",
              "      <td>0.501656</td>\n",
              "      <td>0.461907</td>\n",
              "      <td>0.518955</td>\n",
              "      <td>0.416268</td>\n",
              "      <td>0.0</td>\n",
              "      <td>0.0</td>\n",
              "      <td>0.806588</td>\n",
              "    </tr>\n",
              "    <tr>\n",
              "      <th>std</th>\n",
              "      <td>0.471621</td>\n",
              "      <td>0.409924</td>\n",
              "      <td>0.405480</td>\n",
              "      <td>0.445309</td>\n",
              "      <td>0.498172</td>\n",
              "      <td>0.498648</td>\n",
              "      <td>0.499263</td>\n",
              "      <td>0.500034</td>\n",
              "      <td>0.498770</td>\n",
              "      <td>0.499482</td>\n",
              "      <td>0.499947</td>\n",
              "      <td>0.499680</td>\n",
              "      <td>0.499112</td>\n",
              "      <td>0.497644</td>\n",
              "      <td>0.500043</td>\n",
              "      <td>0.498593</td>\n",
              "      <td>0.499687</td>\n",
              "      <td>0.492984</td>\n",
              "      <td>0.0</td>\n",
              "      <td>0.0</td>\n",
              "      <td>0.395009</td>\n",
              "    </tr>\n",
              "    <tr>\n",
              "      <th>min</th>\n",
              "      <td>0.000000</td>\n",
              "      <td>0.000000</td>\n",
              "      <td>0.000000</td>\n",
              "      <td>0.000000</td>\n",
              "      <td>0.000000</td>\n",
              "      <td>0.000000</td>\n",
              "      <td>0.000000</td>\n",
              "      <td>0.000000</td>\n",
              "      <td>0.000000</td>\n",
              "      <td>0.000000</td>\n",
              "      <td>0.000000</td>\n",
              "      <td>0.000000</td>\n",
              "      <td>0.000000</td>\n",
              "      <td>0.000000</td>\n",
              "      <td>0.000000</td>\n",
              "      <td>0.000000</td>\n",
              "      <td>0.000000</td>\n",
              "      <td>0.000000</td>\n",
              "      <td>0.0</td>\n",
              "      <td>0.0</td>\n",
              "      <td>0.000000</td>\n",
              "    </tr>\n",
              "    <tr>\n",
              "      <th>25%</th>\n",
              "      <td>0.000000</td>\n",
              "      <td>1.000000</td>\n",
              "      <td>1.000000</td>\n",
              "      <td>0.000000</td>\n",
              "      <td>0.000000</td>\n",
              "      <td>0.000000</td>\n",
              "      <td>0.000000</td>\n",
              "      <td>0.000000</td>\n",
              "      <td>0.000000</td>\n",
              "      <td>0.000000</td>\n",
              "      <td>0.000000</td>\n",
              "      <td>0.000000</td>\n",
              "      <td>0.000000</td>\n",
              "      <td>0.000000</td>\n",
              "      <td>0.000000</td>\n",
              "      <td>0.000000</td>\n",
              "      <td>0.000000</td>\n",
              "      <td>0.000000</td>\n",
              "      <td>0.0</td>\n",
              "      <td>0.0</td>\n",
              "      <td>1.000000</td>\n",
              "    </tr>\n",
              "    <tr>\n",
              "      <th>50%</th>\n",
              "      <td>1.000000</td>\n",
              "      <td>1.000000</td>\n",
              "      <td>1.000000</td>\n",
              "      <td>1.000000</td>\n",
              "      <td>1.000000</td>\n",
              "      <td>0.000000</td>\n",
              "      <td>0.000000</td>\n",
              "      <td>1.000000</td>\n",
              "      <td>0.000000</td>\n",
              "      <td>0.000000</td>\n",
              "      <td>0.000000</td>\n",
              "      <td>1.000000</td>\n",
              "      <td>0.000000</td>\n",
              "      <td>0.000000</td>\n",
              "      <td>1.000000</td>\n",
              "      <td>0.000000</td>\n",
              "      <td>1.000000</td>\n",
              "      <td>0.000000</td>\n",
              "      <td>0.0</td>\n",
              "      <td>0.0</td>\n",
              "      <td>1.000000</td>\n",
              "    </tr>\n",
              "    <tr>\n",
              "      <th>75%</th>\n",
              "      <td>1.000000</td>\n",
              "      <td>1.000000</td>\n",
              "      <td>1.000000</td>\n",
              "      <td>1.000000</td>\n",
              "      <td>1.000000</td>\n",
              "      <td>1.000000</td>\n",
              "      <td>1.000000</td>\n",
              "      <td>1.000000</td>\n",
              "      <td>1.000000</td>\n",
              "      <td>1.000000</td>\n",
              "      <td>1.000000</td>\n",
              "      <td>1.000000</td>\n",
              "      <td>1.000000</td>\n",
              "      <td>1.000000</td>\n",
              "      <td>1.000000</td>\n",
              "      <td>1.000000</td>\n",
              "      <td>1.000000</td>\n",
              "      <td>1.000000</td>\n",
              "      <td>0.0</td>\n",
              "      <td>0.0</td>\n",
              "      <td>1.000000</td>\n",
              "    </tr>\n",
              "    <tr>\n",
              "      <th>max</th>\n",
              "      <td>1.000000</td>\n",
              "      <td>1.000000</td>\n",
              "      <td>1.000000</td>\n",
              "      <td>1.000000</td>\n",
              "      <td>1.000000</td>\n",
              "      <td>1.000000</td>\n",
              "      <td>1.000000</td>\n",
              "      <td>1.000000</td>\n",
              "      <td>1.000000</td>\n",
              "      <td>1.000000</td>\n",
              "      <td>1.000000</td>\n",
              "      <td>1.000000</td>\n",
              "      <td>1.000000</td>\n",
              "      <td>1.000000</td>\n",
              "      <td>1.000000</td>\n",
              "      <td>1.000000</td>\n",
              "      <td>1.000000</td>\n",
              "      <td>1.000000</td>\n",
              "      <td>0.0</td>\n",
              "      <td>0.0</td>\n",
              "      <td>1.000000</td>\n",
              "    </tr>\n",
              "  </tbody>\n",
              "</table>\n",
              "</div>"
            ],
            "text/plain": [
              "       Breathing Problem        Fever  ...  Sanitization from Market     COVID-19\n",
              "count        5434.000000  5434.000000  ...                    5434.0  5434.000000\n",
              "mean            0.666176     0.786345  ...                       0.0     0.806588\n",
              "std             0.471621     0.409924  ...                       0.0     0.395009\n",
              "min             0.000000     0.000000  ...                       0.0     0.000000\n",
              "25%             0.000000     1.000000  ...                       0.0     1.000000\n",
              "50%             1.000000     1.000000  ...                       0.0     1.000000\n",
              "75%             1.000000     1.000000  ...                       0.0     1.000000\n",
              "max             1.000000     1.000000  ...                       0.0     1.000000\n",
              "\n",
              "[8 rows x 21 columns]"
            ]
          },
          "metadata": {
            "tags": []
          },
          "execution_count": 18
        }
      ]
    },
    {
      "cell_type": "code",
      "metadata": {
        "id": "9hhi5uNqftjZ"
      },
      "source": [
        ""
      ],
      "execution_count": null,
      "outputs": []
    },
    {
      "cell_type": "code",
      "metadata": {
        "id": "x_dwtm_afzky"
      },
      "source": [
        ""
      ],
      "execution_count": null,
      "outputs": []
    },
    {
      "cell_type": "code",
      "metadata": {
        "id": "oCOGARASfzvw"
      },
      "source": [
        ""
      ],
      "execution_count": null,
      "outputs": []
    },
    {
      "cell_type": "markdown",
      "metadata": {
        "id": "HkuaNNkGf1vb"
      },
      "source": [
        ""
      ]
    },
    {
      "cell_type": "code",
      "metadata": {
        "id": "zJXdZqWyfz5i"
      },
      "source": [
        "from sklearn.model_selection import train_test_split\n",
        "from sklearn import metrics\n",
        "from sklearn.metrics import accuracy_score"
      ],
      "execution_count": null,
      "outputs": []
    },
    {
      "cell_type": "code",
      "metadata": {
        "id": "NzjtcOhMgGVI"
      },
      "source": [
        "x=covid.iloc[:,[0,1,2,3,4,5,6,7,8,9,10,11,12,13,14,15,16,17,18,19]]\n",
        "y=covid.iloc[:,[20]]"
      ],
      "execution_count": null,
      "outputs": []
    },
    {
      "cell_type": "code",
      "metadata": {
        "colab": {
          "base_uri": "https://localhost:8080/",
          "height": 470
        },
        "id": "AN5cJCJagPR6",
        "outputId": "c7e85cdf-e360-4ef0-fe7f-c3477e21c3be"
      },
      "source": [
        "x.head(10)"
      ],
      "execution_count": null,
      "outputs": [
        {
          "output_type": "execute_result",
          "data": {
            "text/html": [
              "<div>\n",
              "<style scoped>\n",
              "    .dataframe tbody tr th:only-of-type {\n",
              "        vertical-align: middle;\n",
              "    }\n",
              "\n",
              "    .dataframe tbody tr th {\n",
              "        vertical-align: top;\n",
              "    }\n",
              "\n",
              "    .dataframe thead th {\n",
              "        text-align: right;\n",
              "    }\n",
              "</style>\n",
              "<table border=\"1\" class=\"dataframe\">\n",
              "  <thead>\n",
              "    <tr style=\"text-align: right;\">\n",
              "      <th></th>\n",
              "      <th>Breathing Problem</th>\n",
              "      <th>Fever</th>\n",
              "      <th>Dry Cough</th>\n",
              "      <th>Sore throat</th>\n",
              "      <th>Running Nose</th>\n",
              "      <th>Asthma</th>\n",
              "      <th>Chronic Lung Disease</th>\n",
              "      <th>Headache</th>\n",
              "      <th>Heart Disease</th>\n",
              "      <th>Diabetes</th>\n",
              "      <th>Hyper Tension</th>\n",
              "      <th>Fatigue</th>\n",
              "      <th>Gastrointestinal</th>\n",
              "      <th>Abroad travel</th>\n",
              "      <th>Contact with COVID Patient</th>\n",
              "      <th>Attended Large Gathering</th>\n",
              "      <th>Visited Public Exposed Places</th>\n",
              "      <th>Family working in Public Exposed Places</th>\n",
              "      <th>Wearing Masks</th>\n",
              "      <th>Sanitization from Market</th>\n",
              "    </tr>\n",
              "  </thead>\n",
              "  <tbody>\n",
              "    <tr>\n",
              "      <th>0</th>\n",
              "      <td>1</td>\n",
              "      <td>1</td>\n",
              "      <td>1</td>\n",
              "      <td>1</td>\n",
              "      <td>1</td>\n",
              "      <td>0</td>\n",
              "      <td>0</td>\n",
              "      <td>0</td>\n",
              "      <td>0</td>\n",
              "      <td>1</td>\n",
              "      <td>1</td>\n",
              "      <td>1</td>\n",
              "      <td>1</td>\n",
              "      <td>0</td>\n",
              "      <td>1</td>\n",
              "      <td>0</td>\n",
              "      <td>1</td>\n",
              "      <td>1</td>\n",
              "      <td>0</td>\n",
              "      <td>0</td>\n",
              "    </tr>\n",
              "    <tr>\n",
              "      <th>1</th>\n",
              "      <td>1</td>\n",
              "      <td>1</td>\n",
              "      <td>1</td>\n",
              "      <td>1</td>\n",
              "      <td>0</td>\n",
              "      <td>1</td>\n",
              "      <td>1</td>\n",
              "      <td>1</td>\n",
              "      <td>0</td>\n",
              "      <td>0</td>\n",
              "      <td>0</td>\n",
              "      <td>1</td>\n",
              "      <td>0</td>\n",
              "      <td>0</td>\n",
              "      <td>0</td>\n",
              "      <td>1</td>\n",
              "      <td>1</td>\n",
              "      <td>0</td>\n",
              "      <td>0</td>\n",
              "      <td>0</td>\n",
              "    </tr>\n",
              "    <tr>\n",
              "      <th>2</th>\n",
              "      <td>1</td>\n",
              "      <td>1</td>\n",
              "      <td>1</td>\n",
              "      <td>1</td>\n",
              "      <td>1</td>\n",
              "      <td>1</td>\n",
              "      <td>1</td>\n",
              "      <td>1</td>\n",
              "      <td>0</td>\n",
              "      <td>1</td>\n",
              "      <td>0</td>\n",
              "      <td>1</td>\n",
              "      <td>1</td>\n",
              "      <td>1</td>\n",
              "      <td>0</td>\n",
              "      <td>0</td>\n",
              "      <td>0</td>\n",
              "      <td>0</td>\n",
              "      <td>0</td>\n",
              "      <td>0</td>\n",
              "    </tr>\n",
              "    <tr>\n",
              "      <th>3</th>\n",
              "      <td>1</td>\n",
              "      <td>1</td>\n",
              "      <td>1</td>\n",
              "      <td>0</td>\n",
              "      <td>0</td>\n",
              "      <td>1</td>\n",
              "      <td>0</td>\n",
              "      <td>0</td>\n",
              "      <td>1</td>\n",
              "      <td>1</td>\n",
              "      <td>0</td>\n",
              "      <td>0</td>\n",
              "      <td>0</td>\n",
              "      <td>1</td>\n",
              "      <td>0</td>\n",
              "      <td>1</td>\n",
              "      <td>1</td>\n",
              "      <td>0</td>\n",
              "      <td>0</td>\n",
              "      <td>0</td>\n",
              "    </tr>\n",
              "    <tr>\n",
              "      <th>4</th>\n",
              "      <td>1</td>\n",
              "      <td>1</td>\n",
              "      <td>1</td>\n",
              "      <td>1</td>\n",
              "      <td>1</td>\n",
              "      <td>0</td>\n",
              "      <td>1</td>\n",
              "      <td>1</td>\n",
              "      <td>1</td>\n",
              "      <td>1</td>\n",
              "      <td>1</td>\n",
              "      <td>0</td>\n",
              "      <td>1</td>\n",
              "      <td>0</td>\n",
              "      <td>1</td>\n",
              "      <td>0</td>\n",
              "      <td>1</td>\n",
              "      <td>0</td>\n",
              "      <td>0</td>\n",
              "      <td>0</td>\n",
              "    </tr>\n",
              "    <tr>\n",
              "      <th>5</th>\n",
              "      <td>1</td>\n",
              "      <td>1</td>\n",
              "      <td>1</td>\n",
              "      <td>0</td>\n",
              "      <td>0</td>\n",
              "      <td>0</td>\n",
              "      <td>0</td>\n",
              "      <td>0</td>\n",
              "      <td>1</td>\n",
              "      <td>0</td>\n",
              "      <td>1</td>\n",
              "      <td>0</td>\n",
              "      <td>0</td>\n",
              "      <td>0</td>\n",
              "      <td>0</td>\n",
              "      <td>0</td>\n",
              "      <td>0</td>\n",
              "      <td>0</td>\n",
              "      <td>0</td>\n",
              "      <td>0</td>\n",
              "    </tr>\n",
              "    <tr>\n",
              "      <th>6</th>\n",
              "      <td>1</td>\n",
              "      <td>1</td>\n",
              "      <td>1</td>\n",
              "      <td>0</td>\n",
              "      <td>0</td>\n",
              "      <td>0</td>\n",
              "      <td>1</td>\n",
              "      <td>0</td>\n",
              "      <td>1</td>\n",
              "      <td>1</td>\n",
              "      <td>1</td>\n",
              "      <td>1</td>\n",
              "      <td>1</td>\n",
              "      <td>0</td>\n",
              "      <td>0</td>\n",
              "      <td>1</td>\n",
              "      <td>1</td>\n",
              "      <td>1</td>\n",
              "      <td>0</td>\n",
              "      <td>0</td>\n",
              "    </tr>\n",
              "    <tr>\n",
              "      <th>7</th>\n",
              "      <td>1</td>\n",
              "      <td>1</td>\n",
              "      <td>1</td>\n",
              "      <td>0</td>\n",
              "      <td>1</td>\n",
              "      <td>1</td>\n",
              "      <td>0</td>\n",
              "      <td>0</td>\n",
              "      <td>0</td>\n",
              "      <td>1</td>\n",
              "      <td>1</td>\n",
              "      <td>0</td>\n",
              "      <td>1</td>\n",
              "      <td>1</td>\n",
              "      <td>0</td>\n",
              "      <td>0</td>\n",
              "      <td>1</td>\n",
              "      <td>0</td>\n",
              "      <td>0</td>\n",
              "      <td>0</td>\n",
              "    </tr>\n",
              "    <tr>\n",
              "      <th>8</th>\n",
              "      <td>1</td>\n",
              "      <td>1</td>\n",
              "      <td>1</td>\n",
              "      <td>0</td>\n",
              "      <td>1</td>\n",
              "      <td>0</td>\n",
              "      <td>1</td>\n",
              "      <td>0</td>\n",
              "      <td>0</td>\n",
              "      <td>1</td>\n",
              "      <td>0</td>\n",
              "      <td>1</td>\n",
              "      <td>0</td>\n",
              "      <td>1</td>\n",
              "      <td>1</td>\n",
              "      <td>1</td>\n",
              "      <td>0</td>\n",
              "      <td>0</td>\n",
              "      <td>0</td>\n",
              "      <td>0</td>\n",
              "    </tr>\n",
              "    <tr>\n",
              "      <th>9</th>\n",
              "      <td>1</td>\n",
              "      <td>1</td>\n",
              "      <td>1</td>\n",
              "      <td>0</td>\n",
              "      <td>0</td>\n",
              "      <td>1</td>\n",
              "      <td>0</td>\n",
              "      <td>0</td>\n",
              "      <td>0</td>\n",
              "      <td>1</td>\n",
              "      <td>1</td>\n",
              "      <td>1</td>\n",
              "      <td>0</td>\n",
              "      <td>0</td>\n",
              "      <td>0</td>\n",
              "      <td>0</td>\n",
              "      <td>1</td>\n",
              "      <td>0</td>\n",
              "      <td>0</td>\n",
              "      <td>0</td>\n",
              "    </tr>\n",
              "  </tbody>\n",
              "</table>\n",
              "</div>"
            ],
            "text/plain": [
              "   Breathing Problem  Fever  ...  Wearing Masks  Sanitization from Market\n",
              "0                  1      1  ...              0                         0\n",
              "1                  1      1  ...              0                         0\n",
              "2                  1      1  ...              0                         0\n",
              "3                  1      1  ...              0                         0\n",
              "4                  1      1  ...              0                         0\n",
              "5                  1      1  ...              0                         0\n",
              "6                  1      1  ...              0                         0\n",
              "7                  1      1  ...              0                         0\n",
              "8                  1      1  ...              0                         0\n",
              "9                  1      1  ...              0                         0\n",
              "\n",
              "[10 rows x 20 columns]"
            ]
          },
          "metadata": {
            "tags": []
          },
          "execution_count": 21
        }
      ]
    },
    {
      "cell_type": "code",
      "metadata": {
        "colab": {
          "base_uri": "https://localhost:8080/",
          "height": 363
        },
        "id": "c8Mw2ExWgTor",
        "outputId": "6a1892c5-4242-4ce0-c37d-ae32a998f18b"
      },
      "source": [
        "y.head(10)"
      ],
      "execution_count": null,
      "outputs": [
        {
          "output_type": "execute_result",
          "data": {
            "text/html": [
              "<div>\n",
              "<style scoped>\n",
              "    .dataframe tbody tr th:only-of-type {\n",
              "        vertical-align: middle;\n",
              "    }\n",
              "\n",
              "    .dataframe tbody tr th {\n",
              "        vertical-align: top;\n",
              "    }\n",
              "\n",
              "    .dataframe thead th {\n",
              "        text-align: right;\n",
              "    }\n",
              "</style>\n",
              "<table border=\"1\" class=\"dataframe\">\n",
              "  <thead>\n",
              "    <tr style=\"text-align: right;\">\n",
              "      <th></th>\n",
              "      <th>COVID-19</th>\n",
              "    </tr>\n",
              "  </thead>\n",
              "  <tbody>\n",
              "    <tr>\n",
              "      <th>0</th>\n",
              "      <td>1</td>\n",
              "    </tr>\n",
              "    <tr>\n",
              "      <th>1</th>\n",
              "      <td>1</td>\n",
              "    </tr>\n",
              "    <tr>\n",
              "      <th>2</th>\n",
              "      <td>1</td>\n",
              "    </tr>\n",
              "    <tr>\n",
              "      <th>3</th>\n",
              "      <td>1</td>\n",
              "    </tr>\n",
              "    <tr>\n",
              "      <th>4</th>\n",
              "      <td>1</td>\n",
              "    </tr>\n",
              "    <tr>\n",
              "      <th>5</th>\n",
              "      <td>1</td>\n",
              "    </tr>\n",
              "    <tr>\n",
              "      <th>6</th>\n",
              "      <td>1</td>\n",
              "    </tr>\n",
              "    <tr>\n",
              "      <th>7</th>\n",
              "      <td>1</td>\n",
              "    </tr>\n",
              "    <tr>\n",
              "      <th>8</th>\n",
              "      <td>1</td>\n",
              "    </tr>\n",
              "    <tr>\n",
              "      <th>9</th>\n",
              "      <td>1</td>\n",
              "    </tr>\n",
              "  </tbody>\n",
              "</table>\n",
              "</div>"
            ],
            "text/plain": [
              "   COVID-19\n",
              "0         1\n",
              "1         1\n",
              "2         1\n",
              "3         1\n",
              "4         1\n",
              "5         1\n",
              "6         1\n",
              "7         1\n",
              "8         1\n",
              "9         1"
            ]
          },
          "metadata": {
            "tags": []
          },
          "execution_count": 22
        }
      ]
    },
    {
      "cell_type": "code",
      "metadata": {
        "colab": {
          "base_uri": "https://localhost:8080/",
          "height": 300
        },
        "id": "-1rc8256CPqH",
        "outputId": "a4a4cb22-b7a6-4d96-ec39-f1731b1ef7b1"
      },
      "source": [
        "y.describe()"
      ],
      "execution_count": null,
      "outputs": [
        {
          "output_type": "execute_result",
          "data": {
            "text/html": [
              "<div>\n",
              "<style scoped>\n",
              "    .dataframe tbody tr th:only-of-type {\n",
              "        vertical-align: middle;\n",
              "    }\n",
              "\n",
              "    .dataframe tbody tr th {\n",
              "        vertical-align: top;\n",
              "    }\n",
              "\n",
              "    .dataframe thead th {\n",
              "        text-align: right;\n",
              "    }\n",
              "</style>\n",
              "<table border=\"1\" class=\"dataframe\">\n",
              "  <thead>\n",
              "    <tr style=\"text-align: right;\">\n",
              "      <th></th>\n",
              "      <th>COVID-19</th>\n",
              "    </tr>\n",
              "  </thead>\n",
              "  <tbody>\n",
              "    <tr>\n",
              "      <th>count</th>\n",
              "      <td>5434.000000</td>\n",
              "    </tr>\n",
              "    <tr>\n",
              "      <th>mean</th>\n",
              "      <td>0.806588</td>\n",
              "    </tr>\n",
              "    <tr>\n",
              "      <th>std</th>\n",
              "      <td>0.395009</td>\n",
              "    </tr>\n",
              "    <tr>\n",
              "      <th>min</th>\n",
              "      <td>0.000000</td>\n",
              "    </tr>\n",
              "    <tr>\n",
              "      <th>25%</th>\n",
              "      <td>1.000000</td>\n",
              "    </tr>\n",
              "    <tr>\n",
              "      <th>50%</th>\n",
              "      <td>1.000000</td>\n",
              "    </tr>\n",
              "    <tr>\n",
              "      <th>75%</th>\n",
              "      <td>1.000000</td>\n",
              "    </tr>\n",
              "    <tr>\n",
              "      <th>max</th>\n",
              "      <td>1.000000</td>\n",
              "    </tr>\n",
              "  </tbody>\n",
              "</table>\n",
              "</div>"
            ],
            "text/plain": [
              "          COVID-19\n",
              "count  5434.000000\n",
              "mean      0.806588\n",
              "std       0.395009\n",
              "min       0.000000\n",
              "25%       1.000000\n",
              "50%       1.000000\n",
              "75%       1.000000\n",
              "max       1.000000"
            ]
          },
          "metadata": {
            "tags": []
          },
          "execution_count": 23
        }
      ]
    },
    {
      "cell_type": "code",
      "metadata": {
        "colab": {
          "base_uri": "https://localhost:8080/"
        },
        "id": "FFFsBegYCdkx",
        "outputId": "57433826-5176-483f-d384-855e4571492c"
      },
      "source": [
        "round(5434*0.806588)  # This number of Patients have Covid.. So f1 Score is not mandetory.."
      ],
      "execution_count": null,
      "outputs": [
        {
          "output_type": "execute_result",
          "data": {
            "text/plain": [
              "4383"
            ]
          },
          "metadata": {
            "tags": []
          },
          "execution_count": 23
        }
      ]
    },
    {
      "cell_type": "code",
      "metadata": {
        "id": "0AzAHv3Rgb6D"
      },
      "source": [
        ""
      ],
      "execution_count": null,
      "outputs": []
    },
    {
      "cell_type": "code",
      "metadata": {
        "id": "xPV4KoxP2qqv"
      },
      "source": [
        ""
      ],
      "execution_count": null,
      "outputs": []
    },
    {
      "cell_type": "code",
      "metadata": {
        "id": "Yg4u59sQ30wl"
      },
      "source": [
        "X = x\n",
        "Y = y"
      ],
      "execution_count": null,
      "outputs": []
    },
    {
      "cell_type": "code",
      "metadata": {
        "colab": {
          "base_uri": "https://localhost:8080/"
        },
        "id": "98khh5lu3GhS",
        "outputId": "00adf2c1-4dc7-4f82-aa11-c6e2002480a4"
      },
      "source": [
        "print(X.shape)\n",
        "print(Y.shape)"
      ],
      "execution_count": null,
      "outputs": [
        {
          "output_type": "stream",
          "text": [
            "(5434, 20)\n",
            "(5434, 1)\n"
          ],
          "name": "stdout"
        }
      ]
    },
    {
      "cell_type": "code",
      "metadata": {
        "colab": {
          "base_uri": "https://localhost:8080/",
          "height": 530
        },
        "id": "rje9P3vx3_Py",
        "outputId": "5e5df0da-07a8-42e3-ecc1-bff4233f1f7b"
      },
      "source": [
        "X"
      ],
      "execution_count": null,
      "outputs": [
        {
          "output_type": "execute_result",
          "data": {
            "text/html": [
              "<div>\n",
              "<style scoped>\n",
              "    .dataframe tbody tr th:only-of-type {\n",
              "        vertical-align: middle;\n",
              "    }\n",
              "\n",
              "    .dataframe tbody tr th {\n",
              "        vertical-align: top;\n",
              "    }\n",
              "\n",
              "    .dataframe thead th {\n",
              "        text-align: right;\n",
              "    }\n",
              "</style>\n",
              "<table border=\"1\" class=\"dataframe\">\n",
              "  <thead>\n",
              "    <tr style=\"text-align: right;\">\n",
              "      <th></th>\n",
              "      <th>Breathing Problem</th>\n",
              "      <th>Fever</th>\n",
              "      <th>Dry Cough</th>\n",
              "      <th>Sore throat</th>\n",
              "      <th>Running Nose</th>\n",
              "      <th>Asthma</th>\n",
              "      <th>Chronic Lung Disease</th>\n",
              "      <th>Headache</th>\n",
              "      <th>Heart Disease</th>\n",
              "      <th>Diabetes</th>\n",
              "      <th>Hyper Tension</th>\n",
              "      <th>Fatigue</th>\n",
              "      <th>Gastrointestinal</th>\n",
              "      <th>Abroad travel</th>\n",
              "      <th>Contact with COVID Patient</th>\n",
              "      <th>Attended Large Gathering</th>\n",
              "      <th>Visited Public Exposed Places</th>\n",
              "      <th>Family working in Public Exposed Places</th>\n",
              "      <th>Wearing Masks</th>\n",
              "      <th>Sanitization from Market</th>\n",
              "    </tr>\n",
              "  </thead>\n",
              "  <tbody>\n",
              "    <tr>\n",
              "      <th>0</th>\n",
              "      <td>1</td>\n",
              "      <td>1</td>\n",
              "      <td>1</td>\n",
              "      <td>1</td>\n",
              "      <td>1</td>\n",
              "      <td>0</td>\n",
              "      <td>0</td>\n",
              "      <td>0</td>\n",
              "      <td>0</td>\n",
              "      <td>1</td>\n",
              "      <td>1</td>\n",
              "      <td>1</td>\n",
              "      <td>1</td>\n",
              "      <td>0</td>\n",
              "      <td>1</td>\n",
              "      <td>0</td>\n",
              "      <td>1</td>\n",
              "      <td>1</td>\n",
              "      <td>0</td>\n",
              "      <td>0</td>\n",
              "    </tr>\n",
              "    <tr>\n",
              "      <th>1</th>\n",
              "      <td>1</td>\n",
              "      <td>1</td>\n",
              "      <td>1</td>\n",
              "      <td>1</td>\n",
              "      <td>0</td>\n",
              "      <td>1</td>\n",
              "      <td>1</td>\n",
              "      <td>1</td>\n",
              "      <td>0</td>\n",
              "      <td>0</td>\n",
              "      <td>0</td>\n",
              "      <td>1</td>\n",
              "      <td>0</td>\n",
              "      <td>0</td>\n",
              "      <td>0</td>\n",
              "      <td>1</td>\n",
              "      <td>1</td>\n",
              "      <td>0</td>\n",
              "      <td>0</td>\n",
              "      <td>0</td>\n",
              "    </tr>\n",
              "    <tr>\n",
              "      <th>2</th>\n",
              "      <td>1</td>\n",
              "      <td>1</td>\n",
              "      <td>1</td>\n",
              "      <td>1</td>\n",
              "      <td>1</td>\n",
              "      <td>1</td>\n",
              "      <td>1</td>\n",
              "      <td>1</td>\n",
              "      <td>0</td>\n",
              "      <td>1</td>\n",
              "      <td>0</td>\n",
              "      <td>1</td>\n",
              "      <td>1</td>\n",
              "      <td>1</td>\n",
              "      <td>0</td>\n",
              "      <td>0</td>\n",
              "      <td>0</td>\n",
              "      <td>0</td>\n",
              "      <td>0</td>\n",
              "      <td>0</td>\n",
              "    </tr>\n",
              "    <tr>\n",
              "      <th>3</th>\n",
              "      <td>1</td>\n",
              "      <td>1</td>\n",
              "      <td>1</td>\n",
              "      <td>0</td>\n",
              "      <td>0</td>\n",
              "      <td>1</td>\n",
              "      <td>0</td>\n",
              "      <td>0</td>\n",
              "      <td>1</td>\n",
              "      <td>1</td>\n",
              "      <td>0</td>\n",
              "      <td>0</td>\n",
              "      <td>0</td>\n",
              "      <td>1</td>\n",
              "      <td>0</td>\n",
              "      <td>1</td>\n",
              "      <td>1</td>\n",
              "      <td>0</td>\n",
              "      <td>0</td>\n",
              "      <td>0</td>\n",
              "    </tr>\n",
              "    <tr>\n",
              "      <th>4</th>\n",
              "      <td>1</td>\n",
              "      <td>1</td>\n",
              "      <td>1</td>\n",
              "      <td>1</td>\n",
              "      <td>1</td>\n",
              "      <td>0</td>\n",
              "      <td>1</td>\n",
              "      <td>1</td>\n",
              "      <td>1</td>\n",
              "      <td>1</td>\n",
              "      <td>1</td>\n",
              "      <td>0</td>\n",
              "      <td>1</td>\n",
              "      <td>0</td>\n",
              "      <td>1</td>\n",
              "      <td>0</td>\n",
              "      <td>1</td>\n",
              "      <td>0</td>\n",
              "      <td>0</td>\n",
              "      <td>0</td>\n",
              "    </tr>\n",
              "    <tr>\n",
              "      <th>...</th>\n",
              "      <td>...</td>\n",
              "      <td>...</td>\n",
              "      <td>...</td>\n",
              "      <td>...</td>\n",
              "      <td>...</td>\n",
              "      <td>...</td>\n",
              "      <td>...</td>\n",
              "      <td>...</td>\n",
              "      <td>...</td>\n",
              "      <td>...</td>\n",
              "      <td>...</td>\n",
              "      <td>...</td>\n",
              "      <td>...</td>\n",
              "      <td>...</td>\n",
              "      <td>...</td>\n",
              "      <td>...</td>\n",
              "      <td>...</td>\n",
              "      <td>...</td>\n",
              "      <td>...</td>\n",
              "      <td>...</td>\n",
              "    </tr>\n",
              "    <tr>\n",
              "      <th>5429</th>\n",
              "      <td>1</td>\n",
              "      <td>1</td>\n",
              "      <td>0</td>\n",
              "      <td>1</td>\n",
              "      <td>1</td>\n",
              "      <td>1</td>\n",
              "      <td>1</td>\n",
              "      <td>0</td>\n",
              "      <td>0</td>\n",
              "      <td>0</td>\n",
              "      <td>0</td>\n",
              "      <td>1</td>\n",
              "      <td>1</td>\n",
              "      <td>0</td>\n",
              "      <td>0</td>\n",
              "      <td>0</td>\n",
              "      <td>0</td>\n",
              "      <td>0</td>\n",
              "      <td>0</td>\n",
              "      <td>0</td>\n",
              "    </tr>\n",
              "    <tr>\n",
              "      <th>5430</th>\n",
              "      <td>1</td>\n",
              "      <td>1</td>\n",
              "      <td>1</td>\n",
              "      <td>0</td>\n",
              "      <td>1</td>\n",
              "      <td>1</td>\n",
              "      <td>0</td>\n",
              "      <td>1</td>\n",
              "      <td>0</td>\n",
              "      <td>1</td>\n",
              "      <td>1</td>\n",
              "      <td>1</td>\n",
              "      <td>0</td>\n",
              "      <td>0</td>\n",
              "      <td>0</td>\n",
              "      <td>0</td>\n",
              "      <td>0</td>\n",
              "      <td>0</td>\n",
              "      <td>0</td>\n",
              "      <td>0</td>\n",
              "    </tr>\n",
              "    <tr>\n",
              "      <th>5431</th>\n",
              "      <td>1</td>\n",
              "      <td>1</td>\n",
              "      <td>1</td>\n",
              "      <td>0</td>\n",
              "      <td>0</td>\n",
              "      <td>0</td>\n",
              "      <td>0</td>\n",
              "      <td>0</td>\n",
              "      <td>1</td>\n",
              "      <td>0</td>\n",
              "      <td>1</td>\n",
              "      <td>0</td>\n",
              "      <td>0</td>\n",
              "      <td>0</td>\n",
              "      <td>0</td>\n",
              "      <td>0</td>\n",
              "      <td>0</td>\n",
              "      <td>0</td>\n",
              "      <td>0</td>\n",
              "      <td>0</td>\n",
              "    </tr>\n",
              "    <tr>\n",
              "      <th>5432</th>\n",
              "      <td>1</td>\n",
              "      <td>1</td>\n",
              "      <td>1</td>\n",
              "      <td>0</td>\n",
              "      <td>1</td>\n",
              "      <td>0</td>\n",
              "      <td>0</td>\n",
              "      <td>1</td>\n",
              "      <td>1</td>\n",
              "      <td>0</td>\n",
              "      <td>0</td>\n",
              "      <td>0</td>\n",
              "      <td>0</td>\n",
              "      <td>0</td>\n",
              "      <td>0</td>\n",
              "      <td>0</td>\n",
              "      <td>0</td>\n",
              "      <td>0</td>\n",
              "      <td>0</td>\n",
              "      <td>0</td>\n",
              "    </tr>\n",
              "    <tr>\n",
              "      <th>5433</th>\n",
              "      <td>1</td>\n",
              "      <td>1</td>\n",
              "      <td>1</td>\n",
              "      <td>0</td>\n",
              "      <td>1</td>\n",
              "      <td>1</td>\n",
              "      <td>0</td>\n",
              "      <td>1</td>\n",
              "      <td>0</td>\n",
              "      <td>1</td>\n",
              "      <td>1</td>\n",
              "      <td>1</td>\n",
              "      <td>0</td>\n",
              "      <td>0</td>\n",
              "      <td>0</td>\n",
              "      <td>0</td>\n",
              "      <td>0</td>\n",
              "      <td>0</td>\n",
              "      <td>0</td>\n",
              "      <td>0</td>\n",
              "    </tr>\n",
              "  </tbody>\n",
              "</table>\n",
              "<p>5434 rows × 20 columns</p>\n",
              "</div>"
            ],
            "text/plain": [
              "      Breathing Problem  Fever  ...  Wearing Masks  Sanitization from Market\n",
              "0                     1      1  ...              0                         0\n",
              "1                     1      1  ...              0                         0\n",
              "2                     1      1  ...              0                         0\n",
              "3                     1      1  ...              0                         0\n",
              "4                     1      1  ...              0                         0\n",
              "...                 ...    ...  ...            ...                       ...\n",
              "5429                  1      1  ...              0                         0\n",
              "5430                  1      1  ...              0                         0\n",
              "5431                  1      1  ...              0                         0\n",
              "5432                  1      1  ...              0                         0\n",
              "5433                  1      1  ...              0                         0\n",
              "\n",
              "[5434 rows x 20 columns]"
            ]
          },
          "metadata": {
            "tags": []
          },
          "execution_count": 26
        }
      ]
    },
    {
      "cell_type": "code",
      "metadata": {
        "colab": {
          "base_uri": "https://localhost:8080/",
          "height": 423
        },
        "id": "V2PQPfAm8htN",
        "outputId": "c9dde050-0531-4d82-cff7-5c660103eee9"
      },
      "source": [
        "Y"
      ],
      "execution_count": null,
      "outputs": [
        {
          "output_type": "execute_result",
          "data": {
            "text/html": [
              "<div>\n",
              "<style scoped>\n",
              "    .dataframe tbody tr th:only-of-type {\n",
              "        vertical-align: middle;\n",
              "    }\n",
              "\n",
              "    .dataframe tbody tr th {\n",
              "        vertical-align: top;\n",
              "    }\n",
              "\n",
              "    .dataframe thead th {\n",
              "        text-align: right;\n",
              "    }\n",
              "</style>\n",
              "<table border=\"1\" class=\"dataframe\">\n",
              "  <thead>\n",
              "    <tr style=\"text-align: right;\">\n",
              "      <th></th>\n",
              "      <th>COVID-19</th>\n",
              "    </tr>\n",
              "  </thead>\n",
              "  <tbody>\n",
              "    <tr>\n",
              "      <th>0</th>\n",
              "      <td>1</td>\n",
              "    </tr>\n",
              "    <tr>\n",
              "      <th>1</th>\n",
              "      <td>1</td>\n",
              "    </tr>\n",
              "    <tr>\n",
              "      <th>2</th>\n",
              "      <td>1</td>\n",
              "    </tr>\n",
              "    <tr>\n",
              "      <th>3</th>\n",
              "      <td>1</td>\n",
              "    </tr>\n",
              "    <tr>\n",
              "      <th>4</th>\n",
              "      <td>1</td>\n",
              "    </tr>\n",
              "    <tr>\n",
              "      <th>...</th>\n",
              "      <td>...</td>\n",
              "    </tr>\n",
              "    <tr>\n",
              "      <th>5429</th>\n",
              "      <td>1</td>\n",
              "    </tr>\n",
              "    <tr>\n",
              "      <th>5430</th>\n",
              "      <td>1</td>\n",
              "    </tr>\n",
              "    <tr>\n",
              "      <th>5431</th>\n",
              "      <td>0</td>\n",
              "    </tr>\n",
              "    <tr>\n",
              "      <th>5432</th>\n",
              "      <td>0</td>\n",
              "    </tr>\n",
              "    <tr>\n",
              "      <th>5433</th>\n",
              "      <td>0</td>\n",
              "    </tr>\n",
              "  </tbody>\n",
              "</table>\n",
              "<p>5434 rows × 1 columns</p>\n",
              "</div>"
            ],
            "text/plain": [
              "      COVID-19\n",
              "0            1\n",
              "1            1\n",
              "2            1\n",
              "3            1\n",
              "4            1\n",
              "...        ...\n",
              "5429         1\n",
              "5430         1\n",
              "5431         0\n",
              "5432         0\n",
              "5433         0\n",
              "\n",
              "[5434 rows x 1 columns]"
            ]
          },
          "metadata": {
            "tags": []
          },
          "execution_count": 27
        }
      ]
    },
    {
      "cell_type": "markdown",
      "metadata": {
        "id": "0GSUfVReBSF4"
      },
      "source": [
        "**ALL Model And It's Descirbing**"
      ]
    },
    {
      "cell_type": "markdown",
      "metadata": {
        "id": "0mKYDxNK3Pop"
      },
      "source": [
        "**KNN**"
      ]
    },
    {
      "cell_type": "code",
      "metadata": {
        "id": "f0IQa-xvv4su"
      },
      "source": [
        "from sklearn.neighbors import KNeighborsClassifier\n",
        "from sklearn.model_selection import RepeatedKFold\n",
        "from sklearn.model_selection import cross_val_score"
      ],
      "execution_count": null,
      "outputs": []
    },
    {
      "cell_type": "code",
      "metadata": {
        "colab": {
          "background_save": true,
          "base_uri": "https://localhost:8080/"
        },
        "id": "FFXzfmQFxxhN",
        "outputId": "60e3f343-3333-4e60-f131-3496a0930f0d"
      },
      "source": [
        "arr1 = []\n",
        "arr2 = []\n",
        "for i in range(5):\n",
        "  arr1.append(i)\n",
        "  knn = KNeighborsClassifier(n_neighbors=i+1)\n",
        "  cv = RepeatedKFold(n_splits=10, n_repeats=500, random_state=1)\n",
        "  scores = cross_val_score(knn,X, Y, cv = cv, scoring = 'accuracy')\n",
        "  print(scores.mean())\n",
        "  arr2.append(scores.mean())"
      ],
      "execution_count": null,
      "outputs": [
        {
          "output_type": "stream",
          "text": [
            "0.9696952598580869\n",
            "0.9698222287671975\n",
            "0.9682355493716823\n",
            "0.9674891452713684\n",
            "0.9670415867728307\n"
          ],
          "name": "stdout"
        }
      ]
    },
    {
      "cell_type": "code",
      "metadata": {
        "colab": {
          "base_uri": "https://localhost:8080/",
          "height": 304
        },
        "id": "Irrmjae_bXpo",
        "outputId": "7fa48001-eb83-4359-fd09-1f28e9f182e8"
      },
      "source": [
        "import matplotlib.pyplot as plt\n",
        "%matplotlib inline\n",
        "\n",
        "plt.plot(arr1,arr2)\n",
        "plt.xlabel(\"Value of K for KNN\")\n",
        "plt.ylabel(\"Cross Valudation Accuracy\")"
      ],
      "execution_count": null,
      "outputs": [
        {
          "output_type": "execute_result",
          "data": {
            "text/plain": [
              "Text(0, 0.5, 'Cross Valudation Accuracy')"
            ]
          },
          "metadata": {
            "tags": []
          },
          "execution_count": 36
        },
        {
          "output_type": "display_data",
          "data": {
            "image/png": "[encoded data removed]",
            "text/plain": [
              "<Figure size 432x288 with 1 Axes>"
            ]
          },
          "metadata": {
            "tags": []
          }
        }
      ]
    },
    {
      "cell_type": "code",
      "metadata": {
        "colab": {
          "base_uri": "https://localhost:8080/"
        },
        "id": "Yi0X4KAS-q4v",
        "outputId": "d3bff416-d983-48a8-cf5f-97a9bfeda567"
      },
      "source": [
        "max(arr2)*100"
      ],
      "execution_count": null,
      "outputs": [
        {
          "output_type": "execute_result",
          "data": {
            "text/plain": [
              "96.98222287671975"
            ]
          },
          "metadata": {
            "tags": []
          },
          "execution_count": 38
        }
      ]
    },
    {
      "cell_type": "markdown",
      "metadata": {
        "id": "jnWJ1x1Xd9Uf"
      },
      "source": [
        "**Hyperpameter Tuning Using KNN**"
      ]
    },
    {
      "cell_type": "code",
      "metadata": {
        "id": "9E0Q2ojsHUcG"
      },
      "source": [
        "grid_params = { 'n_neighbors' : [1,2,3,4,5],\n",
        "               'weights' : ['uniform','distance'],\n",
        "               'metric' : ['minkowski','euclidean','manhattan']}"
      ],
      "execution_count": null,
      "outputs": []
    },
    {
      "cell_type": "code",
      "metadata": {
        "colab": {
          "base_uri": "https://localhost:8080/"
        },
        "id": "9XfyvfbdHXol",
        "outputId": "cb9401ef-3fcc-4b6c-ec60-ad1ae0afef86"
      },
      "source": [
        "from sklearn.model_selection import GridSearchCV\n",
        "cv = RepeatedKFold(n_splits=10, n_repeats=500, random_state=1)\n",
        "grid_search = GridSearchCV(estimator=knn, \n",
        "                           param_grid = grid_params, \n",
        "                           cv=cv, n_jobs=-1, verbose=1, scoring = \"accuracy\")\n",
        "\n",
        "grid_search.fit(X, Y)"
      ],
      "execution_count": null,
      "outputs": [
        {
          "output_type": "stream",
          "text": [
            "Fitting 5000 folds for each of 30 candidates, totalling 150000 fits\n"
          ],
          "name": "stdout"
        },
        {
          "output_type": "stream",
          "text": [
            "[Parallel(n_jobs=-1)]: Using backend LokyBackend with 2 concurrent workers.\n",
            "[Parallel(n_jobs=-1)]: Done  46 tasks      | elapsed:    4.1s\n",
            "[Parallel(n_jobs=-1)]: Done 196 tasks      | elapsed:   14.0s\n",
            "[Parallel(n_jobs=-1)]: Done 446 tasks      | elapsed:   30.4s\n",
            "[Parallel(n_jobs=-1)]: Done 796 tasks      | elapsed:   53.2s\n",
            "[Parallel(n_jobs=-1)]: Done 1246 tasks      | elapsed:  1.4min\n",
            "[Parallel(n_jobs=-1)]: Done 1796 tasks      | elapsed:  2.0min\n",
            "[Parallel(n_jobs=-1)]: Done 2446 tasks      | elapsed:  2.7min\n",
            "[Parallel(n_jobs=-1)]: Done 3196 tasks      | elapsed:  3.5min\n",
            "[Parallel(n_jobs=-1)]: Done 4046 tasks      | elapsed:  4.4min\n",
            "[Parallel(n_jobs=-1)]: Done 4996 tasks      | elapsed:  5.4min\n",
            "[Parallel(n_jobs=-1)]: Done 6046 tasks      | elapsed:  6.4min\n",
            "[Parallel(n_jobs=-1)]: Done 7196 tasks      | elapsed:  7.4min\n",
            "[Parallel(n_jobs=-1)]: Done 8446 tasks      | elapsed:  8.5min\n",
            "[Parallel(n_jobs=-1)]: Done 9796 tasks      | elapsed:  9.8min\n",
            "[Parallel(n_jobs=-1)]: Done 11246 tasks      | elapsed: 11.4min\n",
            "[Parallel(n_jobs=-1)]: Done 12796 tasks      | elapsed: 13.2min\n",
            "[Parallel(n_jobs=-1)]: Done 14446 tasks      | elapsed: 15.1min\n",
            "[Parallel(n_jobs=-1)]: Done 16196 tasks      | elapsed: 16.9min\n",
            "[Parallel(n_jobs=-1)]: Done 18046 tasks      | elapsed: 18.7min\n",
            "[Parallel(n_jobs=-1)]: Done 19996 tasks      | elapsed: 20.5min\n",
            "[Parallel(n_jobs=-1)]: Done 22046 tasks      | elapsed: 23.0min\n",
            "[Parallel(n_jobs=-1)]: Done 24196 tasks      | elapsed: 25.6min\n",
            "[Parallel(n_jobs=-1)]: Done 26446 tasks      | elapsed: 28.0min\n",
            "[Parallel(n_jobs=-1)]: Done 28796 tasks      | elapsed: 30.4min\n",
            "[Parallel(n_jobs=-1)]: Done 31246 tasks      | elapsed: 33.2min\n",
            "[Parallel(n_jobs=-1)]: Done 33796 tasks      | elapsed: 36.4min\n",
            "[Parallel(n_jobs=-1)]: Done 36446 tasks      | elapsed: 39.5min\n",
            "[Parallel(n_jobs=-1)]: Done 39196 tasks      | elapsed: 42.4min\n",
            "[Parallel(n_jobs=-1)]: Done 42046 tasks      | elapsed: 46.0min\n",
            "[Parallel(n_jobs=-1)]: Done 44996 tasks      | elapsed: 49.9min\n",
            "[Parallel(n_jobs=-1)]: Done 48046 tasks      | elapsed: 53.3min\n",
            "[Parallel(n_jobs=-1)]: Done 51196 tasks      | elapsed: 56.8min\n",
            "[Parallel(n_jobs=-1)]: Done 54446 tasks      | elapsed: 60.3min\n",
            "[Parallel(n_jobs=-1)]: Done 57796 tasks      | elapsed: 63.5min\n",
            "[Parallel(n_jobs=-1)]: Done 61246 tasks      | elapsed: 66.9min\n",
            "[Parallel(n_jobs=-1)]: Done 64796 tasks      | elapsed: 70.9min\n",
            "[Parallel(n_jobs=-1)]: Done 68446 tasks      | elapsed: 74.5min\n",
            "[Parallel(n_jobs=-1)]: Done 72196 tasks      | elapsed: 78.6min\n",
            "[Parallel(n_jobs=-1)]: Done 76046 tasks      | elapsed: 83.0min\n",
            "[Parallel(n_jobs=-1)]: Done 79996 tasks      | elapsed: 86.9min\n",
            "[Parallel(n_jobs=-1)]: Done 84046 tasks      | elapsed: 92.0min\n",
            "[Parallel(n_jobs=-1)]: Done 88196 tasks      | elapsed: 96.6min\n",
            "[Parallel(n_jobs=-1)]: Done 92446 tasks      | elapsed: 101.7min\n",
            "[Parallel(n_jobs=-1)]: Done 96796 tasks      | elapsed: 107.1min\n",
            "[Parallel(n_jobs=-1)]: Done 101246 tasks      | elapsed: 112.0min\n",
            "[Parallel(n_jobs=-1)]: Done 105796 tasks      | elapsed: 116.9min\n",
            "[Parallel(n_jobs=-1)]: Done 110446 tasks      | elapsed: 121.3min\n",
            "[Parallel(n_jobs=-1)]: Done 115196 tasks      | elapsed: 126.9min\n",
            "[Parallel(n_jobs=-1)]: Done 120046 tasks      | elapsed: 131.7min\n",
            "[Parallel(n_jobs=-1)]: Done 124996 tasks      | elapsed: 137.8min\n",
            "[Parallel(n_jobs=-1)]: Done 130046 tasks      | elapsed: 143.1min\n",
            "[Parallel(n_jobs=-1)]: Done 135196 tasks      | elapsed: 149.7min\n",
            "[Parallel(n_jobs=-1)]: Done 140446 tasks      | elapsed: 155.6min\n",
            "[Parallel(n_jobs=-1)]: Done 145796 tasks      | elapsed: 162.7min\n",
            "[Parallel(n_jobs=-1)]: Done 150000 out of 150000 | elapsed: 167.6min finished\n"
          ],
          "name": "stderr"
        },
        {
          "output_type": "execute_result",
          "data": {
            "text/plain": [
              "GridSearchCV(cv=RepeatedKFold(n_repeats=500, n_splits=10, random_state=1),\n",
              "             error_score=nan,\n",
              "             estimator=KNeighborsClassifier(algorithm='auto', leaf_size=30,\n",
              "                                            metric='minkowski',\n",
              "                                            metric_params=None, n_jobs=None,\n",
              "                                            n_neighbors=5, p=2,\n",
              "                                            weights='uniform'),\n",
              "             iid='deprecated', n_jobs=-1,\n",
              "             param_grid={'metric': ['minkowski', 'euclidean', 'manhattan'],\n",
              "                         'n_neighbors': [1, 2, 3, 4, 5],\n",
              "                         'weights': ['uniform', 'distance']},\n",
              "             pre_dispatch='2*n_jobs', refit=True, return_train_score=False,\n",
              "             scoring='accuracy', verbose=1)"
            ]
          },
          "metadata": {
            "tags": []
          },
          "execution_count": 46
        }
      ]
    },
    {
      "cell_type": "code",
      "metadata": {
        "id": "N1DYpWX7HfOH"
      },
      "source": [
        "gs = grid_search.best_estimator_"
      ],
      "execution_count": null,
      "outputs": []
    },
    {
      "cell_type": "code",
      "metadata": {
        "colab": {
          "base_uri": "https://localhost:8080/"
        },
        "id": "IHWO0S7oHmWT",
        "outputId": "00b27b59-9d17-4ecd-baad-daa290434125"
      },
      "source": [
        "# fit the model on our train set\n",
        "gs.fit(X,Y)\n",
        "y_pred = gs.predict(X)\n",
        "\n",
        "#Score/Accuracy\n",
        "acc_KNN = gs.score(X, Y)*100\n",
        "acc_KNN"
      ],
      "execution_count": null,
      "outputs": [
        {
          "output_type": "execute_result",
          "data": {
            "text/plain": [
              "98.19654030180345"
            ]
          },
          "metadata": {
            "tags": []
          },
          "execution_count": 33
        }
      ]
    },
    {
      "cell_type": "markdown",
      "metadata": {
        "id": "r9b3Qis1ePFo"
      },
      "source": [
        "**Confusion Matrix**"
      ]
    },
    {
      "cell_type": "code",
      "metadata": {
        "colab": {
          "base_uri": "https://localhost:8080/"
        },
        "id": "0X3PJ2hDHqbH",
        "outputId": "a5015995-6783-48b5-d91a-a21d15c08a1a"
      },
      "source": [
        "from sklearn.metrics import confusion_matrix\n",
        "confusion_matrix(Y, gs.predict(X))"
      ],
      "execution_count": null,
      "outputs": [
        {
          "output_type": "execute_result",
          "data": {
            "text/plain": [
              "array([[ 898,  153],\n",
              "       [   9, 4374]])"
            ]
          },
          "metadata": {
            "tags": []
          },
          "execution_count": 51
        }
      ]
    },
    {
      "cell_type": "code",
      "metadata": {
        "colab": {
          "base_uri": "https://localhost:8080/"
        },
        "id": "2SBU7OuwH1KY",
        "outputId": "94fc4c70-0914-4c7f-e0d8-f175df1685e8"
      },
      "source": [
        "from sklearn.metrics import confusion_matrix\n",
        "confusion_matrix(Y, gs.predict(X))"
      ],
      "execution_count": null,
      "outputs": [
        {
          "output_type": "execute_result",
          "data": {
            "text/plain": [
              "array([[ 898,  153],\n",
              "       [   9, 4374]])"
            ]
          },
          "metadata": {
            "tags": []
          },
          "execution_count": 52
        }
      ]
    },
    {
      "cell_type": "code",
      "metadata": {
        "colab": {
          "base_uri": "https://localhost:8080/"
        },
        "id": "XSmdmOD1IAex",
        "outputId": "5be75c9d-a34c-4d50-c5bf-5880a6957a15"
      },
      "source": [
        "from sklearn.metrics import precision_score, recall_score\n",
        "precision_score(Y, gs.predict(X))"
      ],
      "execution_count": null,
      "outputs": [
        {
          "output_type": "execute_result",
          "data": {
            "text/plain": [
              "0.9662027833001988"
            ]
          },
          "metadata": {
            "tags": []
          },
          "execution_count": 53
        }
      ]
    },
    {
      "cell_type": "code",
      "metadata": {
        "colab": {
          "base_uri": "https://localhost:8080/"
        },
        "id": "gSSY76rAIGy6",
        "outputId": "6f50e34d-5904-45fd-b61c-6d86a1e82687"
      },
      "source": [
        "recall_score(Y, gs.predict(X))"
      ],
      "execution_count": null,
      "outputs": [
        {
          "output_type": "execute_result",
          "data": {
            "text/plain": [
              "0.997946611909651"
            ]
          },
          "metadata": {
            "tags": []
          },
          "execution_count": 54
        }
      ]
    },
    {
      "cell_type": "code",
      "metadata": {
        "colab": {
          "base_uri": "https://localhost:8080/"
        },
        "id": "_VhfnnChIMMi",
        "outputId": "e0354b59-558b-4ba2-ca48-30ad8dde9ee0"
      },
      "source": [
        "from sklearn.metrics import f1_score\n",
        "f1_score(Y, gs.predict(X))"
      ],
      "execution_count": null,
      "outputs": [
        {
          "output_type": "execute_result",
          "data": {
            "text/plain": [
              "0.9818181818181819"
            ]
          },
          "metadata": {
            "tags": []
          },
          "execution_count": 55
        }
      ]
    },
    {
      "cell_type": "code",
      "metadata": {
        "colab": {
          "base_uri": "https://localhost:8080/"
        },
        "id": "LbNG4iLwINZi",
        "outputId": "e0da3d0b-3ac1-42eb-92ec-8d7c6400b417"
      },
      "source": [
        "print(\"Precision : \" ,precision_score(Y,gs.predict(X))*100)\n",
        "print(\"Recall    : \" ,recall_score(Y,gs.predict(X))*100)\n",
        "print(\"F1-score  : \" ,f1_score(Y,gs.predict(X))*100)"
      ],
      "execution_count": null,
      "outputs": [
        {
          "output_type": "stream",
          "text": [
            "Precision :  96.62027833001989\n",
            "Recall    :  99.7946611909651\n",
            "F1-score  :  98.18181818181819\n"
          ],
          "name": "stdout"
        }
      ]
    },
    {
      "cell_type": "code",
      "metadata": {
        "id": "6maMMYcU6lgh"
      },
      "source": [
        ""
      ],
      "execution_count": null,
      "outputs": []
    },
    {
      "cell_type": "markdown",
      "metadata": {
        "id": "vZijxwuOhjBF"
      },
      "source": [
        "**MLP**"
      ]
    },
    {
      "cell_type": "code",
      "metadata": {
        "id": "h0EeREXWhjlD"
      },
      "source": [
        "#from sklearn.neural_network import MLPClassifier\n",
        "#mlp = MLPClassifier()\n",
        "#mlp.fit(x_train,y_train)\n",
        "#mlp.score(x_test,y_test)*100"
      ],
      "execution_count": null,
      "outputs": []
    },
    {
      "cell_type": "code",
      "metadata": {
        "id": "G-WaWq-Uhjv1"
      },
      "source": [
        ""
      ],
      "execution_count": null,
      "outputs": []
    },
    {
      "cell_type": "code",
      "metadata": {
        "id": "PsDNPWFcF28s"
      },
      "source": [
        ""
      ],
      "execution_count": null,
      "outputs": []
    },
    {
      "cell_type": "markdown",
      "metadata": {
        "id": "z5s897CLfGkL"
      },
      "source": [
        "**Decision Tree without Hyperparameter Tuning**"
      ]
    },
    {
      "cell_type": "code",
      "metadata": {
        "colab": {
          "base_uri": "https://localhost:8080/"
        },
        "id": "K78Ee__ndSiS",
        "outputId": "45d7a3cf-6565-4aae-9559-ac68bc9b86fc"
      },
      "source": [
        "from sklearn import tree\n",
        "from sklearn.model_selection import cross_val_score\n",
        "from sklearn.model_selection import RepeatedKFold\n",
        "t = tree.DecisionTreeClassifier()\n",
        "cv = RepeatedKFold(n_splits=10, n_repeats=500, random_state=1)\n",
        "scores = cross_val_score(t,X, Y, cv = cv, scoring = 'accuracy')\n",
        "t.fit(X,Y)\n"
      ],
      "execution_count": null,
      "outputs": [
        {
          "output_type": "execute_result",
          "data": {
            "text/plain": [
              "DecisionTreeClassifier(ccp_alpha=0.0, class_weight=None, criterion='gini',\n",
              "                       max_depth=None, max_features=None, max_leaf_nodes=None,\n",
              "                       min_impurity_decrease=0.0, min_impurity_split=None,\n",
              "                       min_samples_leaf=1, min_samples_split=2,\n",
              "                       min_weight_fraction_leaf=0.0, presort='deprecated',\n",
              "                       random_state=None, splitter='best')"
            ]
          },
          "metadata": {
            "tags": []
          },
          "execution_count": 98
        }
      ]
    },
    {
      "cell_type": "code",
      "metadata": {
        "colab": {
          "base_uri": "https://localhost:8080/"
        },
        "id": "WwahXVrOil1O",
        "outputId": "47d633fb-396a-471f-9ae4-4de6327a4be9"
      },
      "source": [
        "t.predict(X)\n",
        "#Score/Accuracy\n",
        "acc_decisiontree=t.score(X, Y)*100\n",
        "print(acc_decisiontree) "
      ],
      "execution_count": null,
      "outputs": [
        {
          "output_type": "stream",
          "text": [
            "98.27015090172985\n"
          ],
          "name": "stdout"
        }
      ]
    },
    {
      "cell_type": "code",
      "metadata": {
        "colab": {
          "base_uri": "https://localhost:8080/",
          "height": 697
        },
        "id": "HIjqRRSkktA2",
        "outputId": "9da79a9e-3abe-42e3-b165-fc2ae71feff1"
      },
      "source": [
        "from matplotlib import pyplot as plt\n",
        "from sklearn import datasets\n",
        "fig = plt.figure(figsize=(25,15))\n",
        "_ = tree.plot_tree(t, \n",
        "                   feature_names=X.columns,  \n",
        "                   class_names=True,\n",
        "                   filled=True)\n"
      ],
      "execution_count": null,
      "outputs": [
        {
          "output_type": "display_data",
          "data": {
            "image/png": "[encoded data removed]",
            "text/plain": [
              "<Figure size 1800x1080 with 1 Axes>"
            ]
          },
          "metadata": {
            "tags": []
          }
        }
      ]
    },
    {
      "cell_type": "code",
      "metadata": {
        "id": "v2CaOOH_mlEF"
      },
      "source": [
        ""
      ],
      "execution_count": null,
      "outputs": []
    },
    {
      "cell_type": "markdown",
      "metadata": {
        "id": "fUo4TlV7GJJg"
      },
      "source": [
        "**Decision Tree with Hyperameter tuning**"
      ]
    },
    {
      "cell_type": "code",
      "metadata": {
        "colab": {
          "base_uri": "https://localhost:8080/"
        },
        "id": "4y8WBTJoK0Jo",
        "outputId": "87368bea-30b0-4d99-ea57-389f463b320f"
      },
      "source": [
        "from sklearn import tree\n",
        "from sklearn.model_selection import RepeatedKFold\n",
        "from sklearn.model_selection import GridSearchCV\n",
        "t = tree.DecisionTreeClassifier()\n",
        "params = {\n",
        "    'max_depth': [2, 3, 5, 8, 10, 5, 18,  20, 25, 28, 20, 45],\n",
        "    'min_samples_leaf': [5, 10, 20, 25, 30, 35,40, 45, 50, 100,200,500,800],\n",
        "    'criterion': [\"gini\", \"entropy\"]\n",
        "}\n",
        "\n",
        "\n",
        "grid_search = GridSearchCV(estimator=t, \n",
        "                           param_grid=params, \n",
        "                           cv=RepeatedKFold(n_splits=10, n_repeats=500, random_state=1), n_jobs=-1, verbose=1, scoring = \"accuracy\")\n",
        "\n",
        "grid_search.fit(X, Y)"
      ],
      "execution_count": null,
      "outputs": [
        {
          "output_type": "stream",
          "text": [
            "Fitting 5000 folds for each of 312 candidates, totalling 1560000 fits\n"
          ],
          "name": "stdout"
        },
        {
          "output_type": "stream",
          "text": [
            "[Parallel(n_jobs=-1)]: Using backend LokyBackend with 2 concurrent workers.\n",
            "[Parallel(n_jobs=-1)]: Done 360 tasks      | elapsed:    3.2s\n",
            "[Parallel(n_jobs=-1)]: Done 2760 tasks      | elapsed:   16.2s\n",
            "[Parallel(n_jobs=-1)]: Done 6760 tasks      | elapsed:   37.9s\n",
            "[Parallel(n_jobs=-1)]: Done 12360 tasks      | elapsed:  1.1min\n",
            "[Parallel(n_jobs=-1)]: Done 19560 tasks      | elapsed:  1.8min\n",
            "[Parallel(n_jobs=-1)]: Done 28360 tasks      | elapsed:  2.5min\n",
            "[Parallel(n_jobs=-1)]: Done 38760 tasks      | elapsed:  3.5min\n",
            "[Parallel(n_jobs=-1)]: Done 50760 tasks      | elapsed:  4.6min\n",
            "[Parallel(n_jobs=-1)]: Done 64360 tasks      | elapsed:  5.8min\n",
            "[Parallel(n_jobs=-1)]: Done 79560 tasks      | elapsed:  7.3min\n",
            "[Parallel(n_jobs=-1)]: Done 96360 tasks      | elapsed:  8.9min\n",
            "[Parallel(n_jobs=-1)]: Done 114760 tasks      | elapsed: 10.7min\n",
            "[Parallel(n_jobs=-1)]: Done 134760 tasks      | elapsed: 12.7min\n",
            "[Parallel(n_jobs=-1)]: Done 156360 tasks      | elapsed: 15.1min\n",
            "[Parallel(n_jobs=-1)]: Done 179560 tasks      | elapsed: 17.7min\n",
            "[Parallel(n_jobs=-1)]: Done 204360 tasks      | elapsed: 20.3min\n",
            "[Parallel(n_jobs=-1)]: Done 230760 tasks      | elapsed: 23.3min\n",
            "[Parallel(n_jobs=-1)]: Done 258760 tasks      | elapsed: 26.3min\n",
            "[Parallel(n_jobs=-1)]: Done 288360 tasks      | elapsed: 29.6min\n",
            "[Parallel(n_jobs=-1)]: Done 319560 tasks      | elapsed: 33.0min\n",
            "[Parallel(n_jobs=-1)]: Done 352360 tasks      | elapsed: 36.5min\n",
            "[Parallel(n_jobs=-1)]: Done 386760 tasks      | elapsed: 40.1min\n",
            "[Parallel(n_jobs=-1)]: Done 422760 tasks      | elapsed: 44.1min\n",
            "[Parallel(n_jobs=-1)]: Done 460360 tasks      | elapsed: 48.1min\n",
            "[Parallel(n_jobs=-1)]: Done 499560 tasks      | elapsed: 52.6min\n",
            "[Parallel(n_jobs=-1)]: Done 540360 tasks      | elapsed: 57.1min\n",
            "[Parallel(n_jobs=-1)]: Done 582760 tasks      | elapsed: 61.7min\n",
            "[Parallel(n_jobs=-1)]: Done 626760 tasks      | elapsed: 66.7min\n",
            "[Parallel(n_jobs=-1)]: Done 672360 tasks      | elapsed: 71.7min\n",
            "[Parallel(n_jobs=-1)]: Done 719560 tasks      | elapsed: 76.8min\n",
            "[Parallel(n_jobs=-1)]: Done 768360 tasks      | elapsed: 82.4min\n",
            "[Parallel(n_jobs=-1)]: Done 818760 tasks      | elapsed: 86.8min\n",
            "[Parallel(n_jobs=-1)]: Done 870760 tasks      | elapsed: 91.4min\n",
            "[Parallel(n_jobs=-1)]: Done 924360 tasks      | elapsed: 96.4min\n",
            "[Parallel(n_jobs=-1)]: Done 979560 tasks      | elapsed: 101.8min\n",
            "[Parallel(n_jobs=-1)]: Done 1036360 tasks      | elapsed: 107.4min\n",
            "[Parallel(n_jobs=-1)]: Done 1094760 tasks      | elapsed: 113.2min\n",
            "[Parallel(n_jobs=-1)]: Done 1154760 tasks      | elapsed: 118.9min\n",
            "[Parallel(n_jobs=-1)]: Done 1216360 tasks      | elapsed: 125.0min\n",
            "[Parallel(n_jobs=-1)]: Done 1279560 tasks      | elapsed: 131.4min\n",
            "[Parallel(n_jobs=-1)]: Done 1344360 tasks      | elapsed: 137.8min\n",
            "[Parallel(n_jobs=-1)]: Done 1410760 tasks      | elapsed: 144.3min\n",
            "[Parallel(n_jobs=-1)]: Done 1478760 tasks      | elapsed: 151.0min\n",
            "[Parallel(n_jobs=-1)]: Done 1548360 tasks      | elapsed: 158.0min\n",
            "[Parallel(n_jobs=-1)]: Done 1560000 out of 1560000 | elapsed: 159.0min finished\n"
          ],
          "name": "stderr"
        },
        {
          "output_type": "execute_result",
          "data": {
            "text/plain": [
              "GridSearchCV(cv=RepeatedKFold(n_repeats=500, n_splits=10, random_state=1),\n",
              "             error_score=nan,\n",
              "             estimator=DecisionTreeClassifier(ccp_alpha=0.0, class_weight=None,\n",
              "                                              criterion='gini', max_depth=None,\n",
              "                                              max_features=None,\n",
              "                                              max_leaf_nodes=None,\n",
              "                                              min_impurity_decrease=0.0,\n",
              "                                              min_impurity_split=None,\n",
              "                                              min_samples_leaf=1,\n",
              "                                              min_samples_split=2,\n",
              "                                              min_weight_fraction_leaf=0.0,\n",
              "                                              presort='deprecated',\n",
              "                                              random_state=None,\n",
              "                                              splitter='best'),\n",
              "             iid='deprecated', n_jobs=-1,\n",
              "             param_grid={'criterion': ['gini', 'entropy'],\n",
              "                         'max_depth': [2, 3, 5, 8, 10, 5, 18, 20, 25, 28, 20,\n",
              "                                       45],\n",
              "                         'min_samples_leaf': [5, 10, 20, 25, 30, 35, 40, 45, 50,\n",
              "                                              100, 200, 500, 800]},\n",
              "             pre_dispatch='2*n_jobs', refit=True, return_train_score=False,\n",
              "             scoring='accuracy', verbose=1)"
            ]
          },
          "metadata": {
            "tags": []
          },
          "execution_count": 29
        }
      ]
    },
    {
      "cell_type": "code",
      "metadata": {
        "id": "yWVYW_8rK--p"
      },
      "source": [
        "dt = grid_search.best_estimator_"
      ],
      "execution_count": null,
      "outputs": []
    },
    {
      "cell_type": "code",
      "metadata": {
        "colab": {
          "base_uri": "https://localhost:8080/"
        },
        "id": "6nMUbmvqLAEe",
        "outputId": "0faa2643-0444-4ced-d998-5422dd0930f0"
      },
      "source": [
        "dt.fit(X,Y)\n",
        "dt.predict(X)\n",
        "\n",
        "#Score/Accuracy\n",
        "acc_decisiontree=dt.score(X, Y)*100\n",
        "acc_decisiontree"
      ],
      "execution_count": null,
      "outputs": [
        {
          "output_type": "execute_result",
          "data": {
            "text/plain": [
              "98.19654030180345"
            ]
          },
          "metadata": {
            "tags": []
          },
          "execution_count": 36
        }
      ]
    },
    {
      "cell_type": "code",
      "metadata": {
        "colab": {
          "base_uri": "https://localhost:8080/"
        },
        "id": "9agDaU-aeV6E",
        "outputId": "a9fc6326-f479-4dfb-a61f-be170d2204d3"
      },
      "source": [
        "##For Fist outcome ..\n",
        "ddt = tree.DecisionTreeClassifier(ccp_alpha=0.0, class_weight=None,\n",
        "                                              criterion='gini', max_depth=None,\n",
        "                                              max_features=None,\n",
        "                                              max_leaf_nodes=None,\n",
        "                                              min_impurity_decrease=0.0,\n",
        "                                              min_impurity_split=None,\n",
        "                                              min_samples_leaf=1,\n",
        "                                              min_samples_split=2,\n",
        "                                              min_weight_fraction_leaf=0.0,\n",
        "                                              presort='deprecated',\n",
        "                                              random_state=None,\n",
        "                                              splitter='best')\n",
        "ddt.fit(X,Y)\n",
        "ddt.predict(X)\n",
        "\n",
        "#Score/Accuracy\n",
        "acc_decisiontree=ddt.score(X, Y)*100\n",
        "acc_decisiontree"
      ],
      "execution_count": null,
      "outputs": [
        {
          "output_type": "execute_result",
          "data": {
            "text/plain": [
              "98.27015090172985"
            ]
          },
          "metadata": {
            "tags": []
          },
          "execution_count": 37
        }
      ]
    },
    {
      "cell_type": "markdown",
      "metadata": {
        "id": "RT1PTaOrzcjT"
      },
      "source": [
        "**Confusion Matrix**"
      ]
    },
    {
      "cell_type": "code",
      "metadata": {
        "colab": {
          "base_uri": "https://localhost:8080/"
        },
        "id": "xAGki8c3kdq8",
        "outputId": "59575493-7163-4d78-ecfe-2aec5cd8e816"
      },
      "source": [
        "from sklearn.metrics import confusion_matrix\n",
        "confusion_matrix(Y, ddt.predict(X))"
      ],
      "execution_count": null,
      "outputs": [
        {
          "output_type": "execute_result",
          "data": {
            "text/plain": [
              "array([[1029,   22],\n",
              "       [  72, 4311]])"
            ]
          },
          "metadata": {
            "tags": []
          },
          "execution_count": 39
        }
      ]
    },
    {
      "cell_type": "code",
      "metadata": {
        "colab": {
          "base_uri": "https://localhost:8080/"
        },
        "id": "MTHWSZmtkejB",
        "outputId": "8daf99ca-d354-42d4-901a-0bdbc951db8c"
      },
      "source": [
        "from sklearn.metrics import precision_score, recall_score\n",
        "precision_score(Y, ddt.predict(X))"
      ],
      "execution_count": null,
      "outputs": [
        {
          "output_type": "execute_result",
          "data": {
            "text/plain": [
              "0.9949226863604893"
            ]
          },
          "metadata": {
            "tags": []
          },
          "execution_count": 40
        }
      ]
    },
    {
      "cell_type": "code",
      "metadata": {
        "colab": {
          "base_uri": "https://localhost:8080/"
        },
        "id": "xM8B3OOjke8b",
        "outputId": "0db18e0b-2831-4375-fff4-ab925ed39734"
      },
      "source": [
        "recall_score(Y, ddt.predict(X))"
      ],
      "execution_count": null,
      "outputs": [
        {
          "output_type": "execute_result",
          "data": {
            "text/plain": [
              "0.9835728952772074"
            ]
          },
          "metadata": {
            "tags": []
          },
          "execution_count": 41
        }
      ]
    },
    {
      "cell_type": "code",
      "metadata": {
        "colab": {
          "base_uri": "https://localhost:8080/"
        },
        "id": "BWc3LJrnkfde",
        "outputId": "7690d2d3-3506-4615-8fe4-435c28db571e"
      },
      "source": [
        "from sklearn.metrics import f1_score\n",
        "f1_score(Y, ddt.predict(X))"
      ],
      "execution_count": null,
      "outputs": [
        {
          "output_type": "execute_result",
          "data": {
            "text/plain": [
              "0.9892152363469481"
            ]
          },
          "metadata": {
            "tags": []
          },
          "execution_count": 42
        }
      ]
    },
    {
      "cell_type": "code",
      "metadata": {
        "colab": {
          "base_uri": "https://localhost:8080/"
        },
        "id": "jaY7CS-5kgDk",
        "outputId": "ac1c1490-da79-4107-d306-297c95185a56"
      },
      "source": [
        "print(\"Precision : \" ,precision_score(Y, ddt.predict(X))*100)\n",
        "print(\"Recall    : \" ,recall_score(Y, ddt.predict(X))*100)\n",
        "print(\"F1-score  : \" ,f1_score(Y, ddt.predict(X))*100)"
      ],
      "execution_count": null,
      "outputs": [
        {
          "output_type": "stream",
          "text": [
            "Precision :  99.49226863604893\n",
            "Recall    :  98.35728952772074\n",
            "F1-score  :  98.92152363469481\n"
          ],
          "name": "stdout"
        }
      ]
    },
    {
      "cell_type": "markdown",
      "metadata": {
        "id": "1lHLNvp948u2"
      },
      "source": [
        "**Random Forest**"
      ]
    },
    {
      "cell_type": "code",
      "metadata": {
        "id": "6FNpDP3V4Cb6"
      },
      "source": [
        "from sklearn.ensemble import RandomForestClassifier\n",
        "from sklearn.model_selection import RepeatedKFold\n",
        "from sklearn.model_selection import cross_val_score"
      ],
      "execution_count": null,
      "outputs": []
    },
    {
      "cell_type": "code",
      "metadata": {
        "colab": {
          "base_uri": "https://localhost:8080/"
        },
        "id": "4c1_acnjzgaf",
        "outputId": "d50cfca5-3dc0-45d2-8ce2-295c416a18c8"
      },
      "source": [
        "rf = RandomForestClassifier()\n",
        "cv = RepeatedKFold(n_splits=10, n_repeats=500, random_state=1)\n",
        "#you can narrow down the values as you keep training\n",
        "# n_estimators = [int(x) for x in np.linspace(start = 200, stop = 2000, num = 10)]\n",
        "# max_features = ['auto', 'sqrt']\n",
        "# max_depth = [int(X) for x in np.linspace(10, 110, num = 11)]\n",
        "# max_depth.append(None)\n",
        "# min_samples_split = [2, 5, 10]\n",
        "# min_samples_leaf = [1, 2, 4]\n",
        "# bootstrap = [True, False]\n",
        "\n",
        "random_grid = {'bootstrap': [True],\n",
        "               'max_depth': [2, 3, 4],\n",
        "                #'max_features': [1, 2],\n",
        "                #'min_samples_leaf': [4, 5,6],\n",
        "               #'min_samples_split': [2,3,4],\n",
        "               'n_estimators': [100]}\n",
        "\n",
        "\n",
        "      \n",
        "\n",
        "\n",
        "rf_random = GridSearchCV(estimator = RandomForestClassifier(),\n",
        "                              param_grid  = random_grid, cv = cv, n_jobs=-1, verbose=1, scoring = 'accuracy')\n",
        "\n",
        "\n",
        "\n",
        "rf_random.fit(X,Y)"
      ],
      "execution_count": null,
      "outputs": [
        {
          "output_type": "stream",
          "text": [
            "Fitting 5000 folds for each of 3 candidates, totalling 15000 fits\n"
          ],
          "name": "stdout"
        },
        {
          "output_type": "stream",
          "text": [
            "[Parallel(n_jobs=-1)]: Using backend LokyBackend with 2 concurrent workers.\n",
            "[Parallel(n_jobs=-1)]: Done  46 tasks      | elapsed:   10.4s\n",
            "[Parallel(n_jobs=-1)]: Done 196 tasks      | elapsed:   40.0s\n",
            "[Parallel(n_jobs=-1)]: Done 446 tasks      | elapsed:  1.5min\n",
            "[Parallel(n_jobs=-1)]: Done 796 tasks      | elapsed:  2.6min\n",
            "[Parallel(n_jobs=-1)]: Done 1246 tasks      | elapsed:  4.1min\n",
            "[Parallel(n_jobs=-1)]: Done 1796 tasks      | elapsed:  5.9min\n",
            "[Parallel(n_jobs=-1)]: Done 2446 tasks      | elapsed:  8.0min\n",
            "[Parallel(n_jobs=-1)]: Done 3196 tasks      | elapsed: 10.4min\n",
            "[Parallel(n_jobs=-1)]: Done 4046 tasks      | elapsed: 13.2min\n",
            "[Parallel(n_jobs=-1)]: Done 4996 tasks      | elapsed: 16.2min\n",
            "[Parallel(n_jobs=-1)]: Done 6046 tasks      | elapsed: 19.8min\n",
            "[Parallel(n_jobs=-1)]: Done 7196 tasks      | elapsed: 23.7min\n",
            "[Parallel(n_jobs=-1)]: Done 8446 tasks      | elapsed: 28.0min\n",
            "[Parallel(n_jobs=-1)]: Done 9796 tasks      | elapsed: 32.5min\n",
            "[Parallel(n_jobs=-1)]: Done 11246 tasks      | elapsed: 37.6min\n",
            "[Parallel(n_jobs=-1)]: Done 12796 tasks      | elapsed: 43.0min\n",
            "[Parallel(n_jobs=-1)]: Done 14446 tasks      | elapsed: 48.8min\n",
            "[Parallel(n_jobs=-1)]: Done 15000 out of 15000 | elapsed: 50.8min finished\n"
          ],
          "name": "stderr"
        },
        {
          "output_type": "execute_result",
          "data": {
            "text/plain": [
              "GridSearchCV(cv=RepeatedKFold(n_repeats=500, n_splits=10, random_state=1),\n",
              "             error_score=nan,\n",
              "             estimator=RandomForestClassifier(bootstrap=True, ccp_alpha=0.0,\n",
              "                                              class_weight=None,\n",
              "                                              criterion='gini', max_depth=None,\n",
              "                                              max_features='auto',\n",
              "                                              max_leaf_nodes=None,\n",
              "                                              max_samples=None,\n",
              "                                              min_impurity_decrease=0.0,\n",
              "                                              min_impurity_split=None,\n",
              "                                              min_samples_leaf=1,\n",
              "                                              min_samples_split=2,\n",
              "                                              min_weight_fraction_leaf=0.0,\n",
              "                                              n_estimators=100, n_jobs=None,\n",
              "                                              oob_score=False,\n",
              "                                              random_state=None, verbose=0,\n",
              "                                              warm_start=False),\n",
              "             iid='deprecated', n_jobs=-1,\n",
              "             param_grid={'bootstrap': [True], 'max_depth': [2, 3, 4],\n",
              "                         'n_estimators': [100]},\n",
              "             pre_dispatch='2*n_jobs', refit=True, return_train_score=False,\n",
              "             scoring='accuracy', verbose=1)"
            ]
          },
          "metadata": {
            "tags": []
          },
          "execution_count": 57
        }
      ]
    },
    {
      "cell_type": "code",
      "metadata": {
        "colab": {
          "base_uri": "https://localhost:8080/"
        },
        "id": "DYBAgHc4z9yJ",
        "outputId": "d9c0eb43-7391-4fb4-d8fc-a7419546e498"
      },
      "source": [
        "rf_random.best_params_"
      ],
      "execution_count": null,
      "outputs": [
        {
          "output_type": "execute_result",
          "data": {
            "text/plain": [
              "{'bootstrap': True, 'max_depth': 4, 'n_estimators': 100}"
            ]
          },
          "metadata": {
            "tags": []
          },
          "execution_count": 58
        }
      ]
    },
    {
      "cell_type": "code",
      "metadata": {
        "id": "MXfUsu0-JiKS"
      },
      "source": [
        "rf_ = rf_random.best_estimator_"
      ],
      "execution_count": null,
      "outputs": []
    },
    {
      "cell_type": "code",
      "metadata": {
        "id": "p1p4Ui9dz--P"
      },
      "source": [
        "#using my best parameters\n",
        "# rf = RandomForestClassifier(bootstrap=True,\n",
        "#  max_depth=30,\n",
        "#  max_features= 'sqrt',\n",
        "#  min_samples_leaf= 1,\n",
        "#  min_samples_split= 5,\n",
        "#  n_estimators= 1400)"
      ],
      "execution_count": null,
      "outputs": []
    },
    {
      "cell_type": "code",
      "metadata": {
        "colab": {
          "base_uri": "https://localhost:8080/"
        },
        "id": "IeMLVWbb0D0X",
        "outputId": "76c4e68d-4906-48ea-ec39-f80e478ac23d"
      },
      "source": [
        "\n",
        "\n",
        "rf_.fit(X,Y)\n",
        "\n",
        "#Score/Accuracy\n",
        "acc_rf= rf_.score(X, Y)*100\n",
        "acc_rf\n",
        "# y_pred = rf_.predict(X)\n",
        "\n",
        "# y_pred[:5]\n",
        "# accuracy_score(,y_pred)"
      ],
      "execution_count": null,
      "outputs": [
        {
          "output_type": "execute_result",
          "data": {
            "text/plain": [
              "95.27051895472948"
            ]
          },
          "metadata": {
            "tags": []
          },
          "execution_count": 62
        }
      ]
    },
    {
      "cell_type": "markdown",
      "metadata": {
        "id": "YD03HAvAMzy3"
      },
      "source": [
        "**Confusion Matrix**"
      ]
    },
    {
      "cell_type": "code",
      "metadata": {
        "colab": {
          "base_uri": "https://localhost:8080/"
        },
        "id": "QqfeuYiS4D02",
        "outputId": "99317ecf-65e8-4739-e5ee-5b0347c24359"
      },
      "source": [
        "from sklearn.metrics import confusion_matrix\n",
        "confusion_matrix(Y, rf_.predict(X))"
      ],
      "execution_count": null,
      "outputs": [
        {
          "output_type": "execute_result",
          "data": {
            "text/plain": [
              "array([[ 795,  256],\n",
              "       [   1, 4382]])"
            ]
          },
          "metadata": {
            "tags": []
          },
          "execution_count": 63
        }
      ]
    },
    {
      "cell_type": "code",
      "metadata": {
        "colab": {
          "base_uri": "https://localhost:8080/"
        },
        "id": "7pEza6_Z4zBH",
        "outputId": "dd4c94f6-f21b-40bc-e4b6-6c727a1307d7"
      },
      "source": [
        "from sklearn.metrics import precision_score, recall_score\n",
        "precision_score(Y, rf_.predict(X))*100"
      ],
      "execution_count": null,
      "outputs": [
        {
          "output_type": "execute_result",
          "data": {
            "text/plain": [
              "94.48037947391117"
            ]
          },
          "metadata": {
            "tags": []
          },
          "execution_count": 64
        }
      ]
    },
    {
      "cell_type": "code",
      "metadata": {
        "colab": {
          "base_uri": "https://localhost:8080/"
        },
        "id": "GIFro4ERMIWw",
        "outputId": "b0deedc4-228c-4ee8-9fcd-6431100c6d07"
      },
      "source": [
        "recall_score(Y, rf_.predict(X))*100"
      ],
      "execution_count": null,
      "outputs": [
        {
          "output_type": "execute_result",
          "data": {
            "text/plain": [
              "99.97718457677391"
            ]
          },
          "metadata": {
            "tags": []
          },
          "execution_count": 65
        }
      ]
    },
    {
      "cell_type": "code",
      "metadata": {
        "colab": {
          "base_uri": "https://localhost:8080/"
        },
        "id": "qviIeP0-MI2y",
        "outputId": "e58f6077-0416-47e1-e2b6-086aa8d54939"
      },
      "source": [
        "from sklearn.metrics import f1_score\n",
        "f1_score(Y, rf_.predict(X))*100"
      ],
      "execution_count": null,
      "outputs": [
        {
          "output_type": "execute_result",
          "data": {
            "text/plain": [
              "97.15109189668551"
            ]
          },
          "metadata": {
            "tags": []
          },
          "execution_count": 67
        }
      ]
    },
    {
      "cell_type": "code",
      "metadata": {
        "colab": {
          "base_uri": "https://localhost:8080/"
        },
        "id": "R-3haaHOMJX_",
        "outputId": "0a8859cf-6f5a-4e2e-ce17-3f51d87d8e1f"
      },
      "source": [
        "print(\"Precision : \" ,precision_score(Y, rf_.predict(X))*100)\n",
        "print(\"Recall    : \" ,recall_score(Y, rf_.predict(X))*100)\n",
        "print(\"F1-score  : \" ,f1_score(Y, rf_.predict(X))*100)"
      ],
      "execution_count": null,
      "outputs": [
        {
          "output_type": "stream",
          "text": [
            "Precision :  94.48037947391117\n",
            "Recall    :  99.97718457677391\n",
            "F1-score  :  97.15109189668551\n"
          ],
          "name": "stdout"
        }
      ]
    },
    {
      "cell_type": "markdown",
      "metadata": {
        "id": "whnc-fL9mhNq"
      },
      "source": [
        "**SVM**"
      ]
    },
    {
      "cell_type": "code",
      "metadata": {
        "id": "kynQykZVmgE_"
      },
      "source": [
        "from sklearn import svm\n",
        "from sklearn.svm import SVC\n",
        "from sklearn.metrics import classification_report, confusion_matrix \n",
        "from sklearn.model_selection import RepeatedKFold\n",
        "from sklearn.model_selection import cross_val_score"
      ],
      "execution_count": null,
      "outputs": []
    },
    {
      "cell_type": "code",
      "metadata": {
        "id": "REN0W4D14Qje"
      },
      "source": [
        "from sklearn.model_selection import GridSearchCV "
      ],
      "execution_count": null,
      "outputs": []
    },
    {
      "cell_type": "code",
      "metadata": {
        "colab": {
          "base_uri": "https://localhost:8080/"
        },
        "id": "I_x86BRVFhkn",
        "outputId": "7e966196-58a7-4f7b-aebe-157afac86181"
      },
      "source": [
        "s = SVC()\n",
        "cv = RepeatedKFold(n_splits=10, n_repeats=500, random_state=1)\n",
        "param_ = {'C': [1],  \n",
        "              'gamma': ['auto'], \n",
        "              'kernel': ['rbf']}  \n",
        "  \n",
        "sv = GridSearchCV(estimator = s, param_grid = param_ , cv = cv, n_jobs=-1, verbose=1, scoring = \"accuracy\") \n",
        "# fitting the model for grid search \n",
        "sv.fit(X, Y) "
      ],
      "execution_count": null,
      "outputs": [
        {
          "output_type": "stream",
          "text": [
            "Fitting 5000 folds for each of 1 candidates, totalling 5000 fits\n"
          ],
          "name": "stdout"
        },
        {
          "output_type": "stream",
          "text": [
            "[Parallel(n_jobs=-1)]: Using backend LokyBackend with 2 concurrent workers.\n",
            "[Parallel(n_jobs=-1)]: Done  46 tasks      | elapsed:    8.5s\n",
            "[Parallel(n_jobs=-1)]: Done 196 tasks      | elapsed:   32.1s\n",
            "[Parallel(n_jobs=-1)]: Done 446 tasks      | elapsed:  1.2min\n",
            "[Parallel(n_jobs=-1)]: Done 796 tasks      | elapsed:  2.1min\n",
            "[Parallel(n_jobs=-1)]: Done 1246 tasks      | elapsed:  3.3min\n",
            "[Parallel(n_jobs=-1)]: Done 1796 tasks      | elapsed:  4.7min\n",
            "[Parallel(n_jobs=-1)]: Done 2446 tasks      | elapsed:  6.4min\n",
            "[Parallel(n_jobs=-1)]: Done 3196 tasks      | elapsed:  8.3min\n",
            "[Parallel(n_jobs=-1)]: Done 4046 tasks      | elapsed: 10.5min\n",
            "[Parallel(n_jobs=-1)]: Done 4996 tasks      | elapsed: 13.0min\n",
            "[Parallel(n_jobs=-1)]: Done 5000 out of 5000 | elapsed: 13.0min finished\n"
          ],
          "name": "stderr"
        },
        {
          "output_type": "execute_result",
          "data": {
            "text/plain": [
              "GridSearchCV(cv=RepeatedKFold(n_repeats=500, n_splits=10, random_state=1),\n",
              "             error_score=nan,\n",
              "             estimator=SVC(C=1.0, break_ties=False, cache_size=200,\n",
              "                           class_weight=None, coef0=0.0,\n",
              "                           decision_function_shape='ovr', degree=3,\n",
              "                           gamma='scale', kernel='rbf', max_iter=-1,\n",
              "                           probability=False, random_state=None, shrinking=True,\n",
              "                           tol=0.001, verbose=False),\n",
              "             iid='deprecated', n_jobs=-1,\n",
              "             param_grid={'C': [1], 'gamma': ['auto'], 'kernel': ['rbf']},\n",
              "             pre_dispatch='2*n_jobs', refit=True, return_train_score=False,\n",
              "             scoring='accuracy', verbose=1)"
            ]
          },
          "metadata": {
            "tags": []
          },
          "execution_count": 31
        }
      ]
    },
    {
      "cell_type": "code",
      "metadata": {
        "id": "Gxn5_X6OGVO9"
      },
      "source": [
        "sc_m = sv.best_estimator_"
      ],
      "execution_count": null,
      "outputs": []
    },
    {
      "cell_type": "code",
      "metadata": {
        "colab": {
          "base_uri": "https://localhost:8080/"
        },
        "id": "2xmRdy8RGvye",
        "outputId": "154c70d1-ed8b-431d-a1be-24d82995dfd7"
      },
      "source": [
        "# print best parameter after tuning \n",
        "sv.best_params_"
      ],
      "execution_count": null,
      "outputs": [
        {
          "output_type": "execute_result",
          "data": {
            "text/plain": [
              "{'C': 1, 'gamma': 'auto', 'kernel': 'rbf'}"
            ]
          },
          "metadata": {
            "tags": []
          },
          "execution_count": 33
        }
      ]
    },
    {
      "cell_type": "code",
      "metadata": {
        "colab": {
          "base_uri": "https://localhost:8080/"
        },
        "id": "oT7XpG3s4A-0",
        "outputId": "55ddc70e-7305-4699-a06c-902cb7e77a21"
      },
      "source": [
        "# print how our model looks after hyper-parameter tuning \n",
        "print(sv.best_estimator_) "
      ],
      "execution_count": null,
      "outputs": [
        {
          "output_type": "stream",
          "text": [
            "SVC(C=1, break_ties=False, cache_size=200, class_weight=None, coef0=0.0,\n",
            "    decision_function_shape='ovr', degree=3, gamma='auto', kernel='rbf',\n",
            "    max_iter=-1, probability=False, random_state=None, shrinking=True,\n",
            "    tol=0.001, verbose=False)\n"
          ],
          "name": "stdout"
        }
      ]
    },
    {
      "cell_type": "code",
      "metadata": {
        "id": "pKCDYxvA4BaD"
      },
      "source": [
        "# train the model on train set \n",
        "from sklearn import svm\n",
        "from sklearn.model_selection import cross_val_score"
      ],
      "execution_count": null,
      "outputs": []
    },
    {
      "cell_type": "code",
      "metadata": {
        "colab": {
          "base_uri": "https://localhost:8080/"
        },
        "id": "493-rVPmHiKz",
        "outputId": "c2d1b7e3-b139-438b-c560-f2be17c92883"
      },
      "source": [
        "\n",
        "sc_m.predict(X)\n",
        "\n",
        "#Score/Accuracy\n",
        "acc_SVC=sc_m.score(X, Y)*100\n",
        "acc_SVC\n"
      ],
      "execution_count": null,
      "outputs": [
        {
          "output_type": "execute_result",
          "data": {
            "text/plain": [
              "97.77327935222672"
            ]
          },
          "metadata": {
            "tags": []
          },
          "execution_count": 37
        }
      ]
    },
    {
      "cell_type": "markdown",
      "metadata": {
        "id": "dwf1KbPsXykC"
      },
      "source": [
        "**Confusion Matrix**"
      ]
    },
    {
      "cell_type": "code",
      "metadata": {
        "colab": {
          "base_uri": "https://localhost:8080/"
        },
        "id": "0G5Ox4ZmXxPc",
        "outputId": "dd559250-a504-4d63-bfb5-229d59d47e2d"
      },
      "source": [
        "from sklearn.metrics import confusion_matrix\n",
        "confusion_matrix(Y, sc_m.predict(X))"
      ],
      "execution_count": null,
      "outputs": [
        {
          "output_type": "execute_result",
          "data": {
            "text/plain": [
              "array([[ 963,   88],\n",
              "       [  33, 4350]])"
            ]
          },
          "metadata": {
            "tags": []
          },
          "execution_count": 38
        }
      ]
    },
    {
      "cell_type": "code",
      "metadata": {
        "colab": {
          "base_uri": "https://localhost:8080/"
        },
        "id": "Y6NClhg8YYIH",
        "outputId": "3cc2ce4c-0b08-4bdc-d9a8-28edafb40a9c"
      },
      "source": [
        "from sklearn.metrics import confusion_matrix\n",
        "confusion_matrix(Y, sc_m.predict(X))"
      ],
      "execution_count": null,
      "outputs": [
        {
          "output_type": "execute_result",
          "data": {
            "text/plain": [
              "array([[ 963,   88],\n",
              "       [  33, 4350]])"
            ]
          },
          "metadata": {
            "tags": []
          },
          "execution_count": 39
        }
      ]
    },
    {
      "cell_type": "code",
      "metadata": {
        "colab": {
          "base_uri": "https://localhost:8080/"
        },
        "id": "9kAQ0ovWYlyE",
        "outputId": "351221dc-4580-40d1-afbe-7a02bf51ae1c"
      },
      "source": [
        "from sklearn.metrics import precision_score, recall_score\n",
        "precision_score(Y, sc_m.predict(X))*100"
      ],
      "execution_count": null,
      "outputs": [
        {
          "output_type": "execute_result",
          "data": {
            "text/plain": [
              "98.01712483100495"
            ]
          },
          "metadata": {
            "tags": []
          },
          "execution_count": 42
        }
      ]
    },
    {
      "cell_type": "code",
      "metadata": {
        "colab": {
          "base_uri": "https://localhost:8080/"
        },
        "id": "7BTmlCEVYm9B",
        "outputId": "9ae4f030-4ebc-498e-f09b-a10b4990a10d"
      },
      "source": [
        "recall_score(Y, sc_m.predict(X))*100"
      ],
      "execution_count": null,
      "outputs": [
        {
          "output_type": "execute_result",
          "data": {
            "text/plain": [
              "99.24709103353867"
            ]
          },
          "metadata": {
            "tags": []
          },
          "execution_count": 43
        }
      ]
    },
    {
      "cell_type": "code",
      "metadata": {
        "colab": {
          "base_uri": "https://localhost:8080/"
        },
        "id": "XWdXKd9KYw7P",
        "outputId": "d7d97a0e-ff4d-436a-c899-b2210c718a7a"
      },
      "source": [
        "from sklearn.metrics import f1_score\n",
        "f1_score(Y, sc_m.predict(X))"
      ],
      "execution_count": null,
      "outputs": [
        {
          "output_type": "execute_result",
          "data": {
            "text/plain": [
              "0.9862827343838566"
            ]
          },
          "metadata": {
            "tags": []
          },
          "execution_count": 44
        }
      ]
    },
    {
      "cell_type": "code",
      "metadata": {
        "colab": {
          "base_uri": "https://localhost:8080/"
        },
        "id": "cnjU4f1AY1no",
        "outputId": "698edc38-f4ed-46bd-eaea-3aff90ce7980"
      },
      "source": [
        "print(\"Precision : \" ,precision_score(Y, sc_m.predict(X))*100)\n",
        "print(\"Recall    : \" ,recall_score(Y, sc_m.predict(X))*100)\n",
        "print(\"F1-score  : \" ,f1_score(Y, sc_m.predict(X))*100)"
      ],
      "execution_count": null,
      "outputs": [
        {
          "output_type": "stream",
          "text": [
            "Precision :  98.01712483100495\n",
            "Recall    :  99.24709103353867\n",
            "F1-score  :  98.62827343838566\n"
          ],
          "name": "stdout"
        }
      ]
    },
    {
      "cell_type": "code",
      "metadata": {
        "id": "KOuEEXXhl8Lz"
      },
      "source": [
        ""
      ],
      "execution_count": null,
      "outputs": []
    },
    {
      "cell_type": "markdown",
      "metadata": {
        "id": "gEptBo80l8yX"
      },
      "source": [
        "**MLP**"
      ]
    },
    {
      "cell_type": "code",
      "metadata": {
        "id": "jktJH-f1mAbx"
      },
      "source": [
        "from sklearn.neural_network import MLPClassifier\n",
        "from sklearn.metrics import classification_report, confusion_matrix \n",
        "from sklearn.model_selection import RepeatedKFold\n",
        "from sklearn.model_selection import cross_val_score\n",
        "from sklearn.model_selection import GridSearchCV "
      ],
      "execution_count": null,
      "outputs": []
    },
    {
      "cell_type": "code",
      "metadata": {
        "id": "acB-aqjnmA_S",
        "colab": {
          "base_uri": "https://localhost:8080/"
        },
        "outputId": "dae6ecf2-6d60-409c-8916-fa81df631e47"
      },
      "source": [
        "mlp = MLPClassifier(max_iter=100)\n",
        "\n",
        "parameter_space = {\n",
        "    'hidden_layer_sizes': [(50,50,50), (50,100,50), (100,)],\n",
        "    'activation': ['tanh', 'relu'],\n",
        "    'solver': ['sgd', 'adam'],\n",
        "    'alpha': [0.0001, 0.05],\n",
        "    'learning_rate': ['constant','adaptive'],\n",
        "}\n",
        "\n",
        "clf = GridSearchCV(mlp, parameter_space, n_jobs=-1, cv=3)\n",
        "clf.fit(X, Y)\n"
      ],
      "execution_count": null,
      "outputs": [
        {
          "output_type": "execute_result",
          "data": {
            "text/plain": [
              "GridSearchCV(cv=3, error_score=nan,\n",
              "             estimator=MLPClassifier(activation='relu', alpha=0.0001,\n",
              "                                     batch_size='auto', beta_1=0.9,\n",
              "                                     beta_2=0.999, early_stopping=False,\n",
              "                                     epsilon=1e-08, hidden_layer_sizes=(100,),\n",
              "                                     learning_rate='constant',\n",
              "                                     learning_rate_init=0.001, max_fun=15000,\n",
              "                                     max_iter=100, momentum=0.9,\n",
              "                                     n_iter_no_change=10,\n",
              "                                     nesterovs_momentum=True, power_t=0.5,\n",
              "                                     random_state...\n",
              "                                     solver='adam', tol=0.0001,\n",
              "                                     validation_fraction=0.1, verbose=False,\n",
              "                                     warm_start=False),\n",
              "             iid='deprecated', n_jobs=-1,\n",
              "             param_grid={'activation': ['tanh', 'relu'],\n",
              "                         'alpha': [0.0001, 0.05],\n",
              "                         'hidden_layer_sizes': [(50, 50, 50), (50, 100, 50),\n",
              "                                                (100,)],\n",
              "                         'learning_rate': ['constant', 'adaptive'],\n",
              "                         'solver': ['sgd', 'adam']},\n",
              "             pre_dispatch='2*n_jobs', refit=True, return_train_score=False,\n",
              "             scoring=None, verbose=0)"
            ]
          },
          "metadata": {
            "tags": []
          },
          "execution_count": 73
        }
      ]
    },
    {
      "cell_type": "code",
      "metadata": {
        "id": "TjimNHI1mBkf",
        "colab": {
          "base_uri": "https://localhost:8080/"
        },
        "outputId": "04dac132-31aa-4103-aa9a-8c9b40b0aed2"
      },
      "source": [
        "# Best paramete set\n",
        "print('Best parameters found:\\n', clf.best_params_)\n"
      ],
      "execution_count": null,
      "outputs": [
        {
          "output_type": "stream",
          "text": [
            "Best parameters found:\n",
            " {'activation': 'relu', 'alpha': 0.05, 'hidden_layer_sizes': (50, 50, 50), 'learning_rate': 'adaptive', 'solver': 'adam'}\n"
          ],
          "name": "stdout"
        }
      ]
    },
    {
      "cell_type": "code",
      "metadata": {
        "colab": {
          "base_uri": "https://localhost:8080/"
        },
        "id": "JLurIKVSUOEZ",
        "outputId": "45d66c9b-704a-409c-9c8c-48331717b0cb"
      },
      "source": [
        "# All results\n",
        "means = clf.cv_results_['mean_test_score']\n",
        "stds = clf.cv_results_['std_test_score']\n",
        "for mean, std, params in zip(means, stds, clf.cv_results_['params']):\n",
        "    print(\"%0.3f (+/-%0.03f) for %r\" % (mean, std * 2, params))\n",
        "y_true, y_pred = Y , clf.predict(X)"
      ],
      "execution_count": null,
      "outputs": [
        {
          "output_type": "stream",
          "text": [
            "0.926 (+/-0.064) for {'activation': 'tanh', 'alpha': 0.0001, 'hidden_layer_sizes': (50, 50, 50), 'learning_rate': 'constant', 'solver': 'sgd'}\n",
            "0.921 (+/-0.041) for {'activation': 'tanh', 'alpha': 0.0001, 'hidden_layer_sizes': (50, 50, 50), 'learning_rate': 'constant', 'solver': 'adam'}\n",
            "0.911 (+/-0.057) for {'activation': 'tanh', 'alpha': 0.0001, 'hidden_layer_sizes': (50, 50, 50), 'learning_rate': 'adaptive', 'solver': 'sgd'}\n",
            "0.917 (+/-0.051) for {'activation': 'tanh', 'alpha': 0.0001, 'hidden_layer_sizes': (50, 50, 50), 'learning_rate': 'adaptive', 'solver': 'adam'}\n",
            "0.921 (+/-0.075) for {'activation': 'tanh', 'alpha': 0.0001, 'hidden_layer_sizes': (50, 100, 50), 'learning_rate': 'constant', 'solver': 'sgd'}\n",
            "0.917 (+/-0.043) for {'activation': 'tanh', 'alpha': 0.0001, 'hidden_layer_sizes': (50, 100, 50), 'learning_rate': 'constant', 'solver': 'adam'}\n",
            "0.914 (+/-0.069) for {'activation': 'tanh', 'alpha': 0.0001, 'hidden_layer_sizes': (50, 100, 50), 'learning_rate': 'adaptive', 'solver': 'sgd'}\n",
            "0.921 (+/-0.036) for {'activation': 'tanh', 'alpha': 0.0001, 'hidden_layer_sizes': (50, 100, 50), 'learning_rate': 'adaptive', 'solver': 'adam'}\n",
            "0.916 (+/-0.066) for {'activation': 'tanh', 'alpha': 0.0001, 'hidden_layer_sizes': (100,), 'learning_rate': 'constant', 'solver': 'sgd'}\n",
            "0.916 (+/-0.052) for {'activation': 'tanh', 'alpha': 0.0001, 'hidden_layer_sizes': (100,), 'learning_rate': 'constant', 'solver': 'adam'}\n",
            "0.912 (+/-0.072) for {'activation': 'tanh', 'alpha': 0.0001, 'hidden_layer_sizes': (100,), 'learning_rate': 'adaptive', 'solver': 'sgd'}\n",
            "0.924 (+/-0.051) for {'activation': 'tanh', 'alpha': 0.0001, 'hidden_layer_sizes': (100,), 'learning_rate': 'adaptive', 'solver': 'adam'}\n",
            "0.915 (+/-0.059) for {'activation': 'tanh', 'alpha': 0.05, 'hidden_layer_sizes': (50, 50, 50), 'learning_rate': 'constant', 'solver': 'sgd'}\n",
            "0.925 (+/-0.060) for {'activation': 'tanh', 'alpha': 0.05, 'hidden_layer_sizes': (50, 50, 50), 'learning_rate': 'constant', 'solver': 'adam'}\n",
            "0.921 (+/-0.047) for {'activation': 'tanh', 'alpha': 0.05, 'hidden_layer_sizes': (50, 50, 50), 'learning_rate': 'adaptive', 'solver': 'sgd'}\n",
            "0.921 (+/-0.046) for {'activation': 'tanh', 'alpha': 0.05, 'hidden_layer_sizes': (50, 50, 50), 'learning_rate': 'adaptive', 'solver': 'adam'}\n",
            "0.913 (+/-0.056) for {'activation': 'tanh', 'alpha': 0.05, 'hidden_layer_sizes': (50, 100, 50), 'learning_rate': 'constant', 'solver': 'sgd'}\n",
            "0.921 (+/-0.072) for {'activation': 'tanh', 'alpha': 0.05, 'hidden_layer_sizes': (50, 100, 50), 'learning_rate': 'constant', 'solver': 'adam'}\n",
            "0.920 (+/-0.061) for {'activation': 'tanh', 'alpha': 0.05, 'hidden_layer_sizes': (50, 100, 50), 'learning_rate': 'adaptive', 'solver': 'sgd'}\n",
            "0.931 (+/-0.056) for {'activation': 'tanh', 'alpha': 0.05, 'hidden_layer_sizes': (50, 100, 50), 'learning_rate': 'adaptive', 'solver': 'adam'}\n",
            "0.908 (+/-0.062) for {'activation': 'tanh', 'alpha': 0.05, 'hidden_layer_sizes': (100,), 'learning_rate': 'constant', 'solver': 'sgd'}\n",
            "0.916 (+/-0.062) for {'activation': 'tanh', 'alpha': 0.05, 'hidden_layer_sizes': (100,), 'learning_rate': 'constant', 'solver': 'adam'}\n",
            "0.909 (+/-0.056) for {'activation': 'tanh', 'alpha': 0.05, 'hidden_layer_sizes': (100,), 'learning_rate': 'adaptive', 'solver': 'sgd'}\n",
            "0.913 (+/-0.068) for {'activation': 'tanh', 'alpha': 0.05, 'hidden_layer_sizes': (100,), 'learning_rate': 'adaptive', 'solver': 'adam'}\n",
            "0.925 (+/-0.073) for {'activation': 'relu', 'alpha': 0.0001, 'hidden_layer_sizes': (50, 50, 50), 'learning_rate': 'constant', 'solver': 'sgd'}\n",
            "0.922 (+/-0.026) for {'activation': 'relu', 'alpha': 0.0001, 'hidden_layer_sizes': (50, 50, 50), 'learning_rate': 'constant', 'solver': 'adam'}\n",
            "0.918 (+/-0.058) for {'activation': 'relu', 'alpha': 0.0001, 'hidden_layer_sizes': (50, 50, 50), 'learning_rate': 'adaptive', 'solver': 'sgd'}\n",
            "0.925 (+/-0.040) for {'activation': 'relu', 'alpha': 0.0001, 'hidden_layer_sizes': (50, 50, 50), 'learning_rate': 'adaptive', 'solver': 'adam'}\n",
            "0.912 (+/-0.065) for {'activation': 'relu', 'alpha': 0.0001, 'hidden_layer_sizes': (50, 100, 50), 'learning_rate': 'constant', 'solver': 'sgd'}\n",
            "0.927 (+/-0.041) for {'activation': 'relu', 'alpha': 0.0001, 'hidden_layer_sizes': (50, 100, 50), 'learning_rate': 'constant', 'solver': 'adam'}\n",
            "0.931 (+/-0.056) for {'activation': 'relu', 'alpha': 0.0001, 'hidden_layer_sizes': (50, 100, 50), 'learning_rate': 'adaptive', 'solver': 'sgd'}\n",
            "0.929 (+/-0.047) for {'activation': 'relu', 'alpha': 0.0001, 'hidden_layer_sizes': (50, 100, 50), 'learning_rate': 'adaptive', 'solver': 'adam'}\n",
            "0.905 (+/-0.069) for {'activation': 'relu', 'alpha': 0.0001, 'hidden_layer_sizes': (100,), 'learning_rate': 'constant', 'solver': 'sgd'}\n",
            "0.927 (+/-0.035) for {'activation': 'relu', 'alpha': 0.0001, 'hidden_layer_sizes': (100,), 'learning_rate': 'constant', 'solver': 'adam'}\n",
            "0.915 (+/-0.062) for {'activation': 'relu', 'alpha': 0.0001, 'hidden_layer_sizes': (100,), 'learning_rate': 'adaptive', 'solver': 'sgd'}\n",
            "0.928 (+/-0.035) for {'activation': 'relu', 'alpha': 0.0001, 'hidden_layer_sizes': (100,), 'learning_rate': 'adaptive', 'solver': 'adam'}\n",
            "0.913 (+/-0.071) for {'activation': 'relu', 'alpha': 0.05, 'hidden_layer_sizes': (50, 50, 50), 'learning_rate': 'constant', 'solver': 'sgd'}\n",
            "0.923 (+/-0.054) for {'activation': 'relu', 'alpha': 0.05, 'hidden_layer_sizes': (50, 50, 50), 'learning_rate': 'constant', 'solver': 'adam'}\n",
            "0.915 (+/-0.064) for {'activation': 'relu', 'alpha': 0.05, 'hidden_layer_sizes': (50, 50, 50), 'learning_rate': 'adaptive', 'solver': 'sgd'}\n",
            "0.931 (+/-0.046) for {'activation': 'relu', 'alpha': 0.05, 'hidden_layer_sizes': (50, 50, 50), 'learning_rate': 'adaptive', 'solver': 'adam'}\n",
            "0.924 (+/-0.096) for {'activation': 'relu', 'alpha': 0.05, 'hidden_layer_sizes': (50, 100, 50), 'learning_rate': 'constant', 'solver': 'sgd'}\n",
            "0.931 (+/-0.050) for {'activation': 'relu', 'alpha': 0.05, 'hidden_layer_sizes': (50, 100, 50), 'learning_rate': 'constant', 'solver': 'adam'}\n",
            "0.912 (+/-0.078) for {'activation': 'relu', 'alpha': 0.05, 'hidden_layer_sizes': (50, 100, 50), 'learning_rate': 'adaptive', 'solver': 'sgd'}\n",
            "0.924 (+/-0.063) for {'activation': 'relu', 'alpha': 0.05, 'hidden_layer_sizes': (50, 100, 50), 'learning_rate': 'adaptive', 'solver': 'adam'}\n",
            "0.921 (+/-0.052) for {'activation': 'relu', 'alpha': 0.05, 'hidden_layer_sizes': (100,), 'learning_rate': 'constant', 'solver': 'sgd'}\n",
            "0.925 (+/-0.055) for {'activation': 'relu', 'alpha': 0.05, 'hidden_layer_sizes': (100,), 'learning_rate': 'constant', 'solver': 'adam'}\n",
            "0.909 (+/-0.067) for {'activation': 'relu', 'alpha': 0.05, 'hidden_layer_sizes': (100,), 'learning_rate': 'adaptive', 'solver': 'sgd'}\n",
            "0.924 (+/-0.051) for {'activation': 'relu', 'alpha': 0.05, 'hidden_layer_sizes': (100,), 'learning_rate': 'adaptive', 'solver': 'adam'}\n"
          ],
          "name": "stdout"
        }
      ]
    },
    {
      "cell_type": "code",
      "metadata": {
        "colab": {
          "base_uri": "https://localhost:8080/"
        },
        "id": "3Wy82mJwWBhx",
        "outputId": "0e780f91-bca1-4ebd-86ff-bbe2512f3a4f"
      },
      "source": [
        "mean\n"
      ],
      "execution_count": null,
      "outputs": [
        {
          "output_type": "execute_result",
          "data": {
            "text/plain": [
              "0.9241744404747538"
            ]
          },
          "metadata": {
            "tags": []
          },
          "execution_count": 79
        }
      ]
    },
    {
      "cell_type": "code",
      "metadata": {
        "id": "RkTtupQIXoun"
      },
      "source": [
        "from sklearn.metrics import confusion_matrix\n",
        "confusion_matrix(Y, clf.predict(X))"
      ],
      "execution_count": null,
      "outputs": []
    },
    {
      "cell_type": "code",
      "metadata": {
        "id": "qRRcB3uSXVwN"
      },
      "source": [
        "from sklearn.metrics import precision_score, recall_score\n",
        "precision_score(Y, clf.predict(X))*100"
      ],
      "execution_count": null,
      "outputs": []
    },
    {
      "cell_type": "code",
      "metadata": {
        "id": "tx5Ag98aXVdd"
      },
      "source": [
        "recall_score(Y, clf.predict(X))*100"
      ],
      "execution_count": null,
      "outputs": []
    },
    {
      "cell_type": "code",
      "metadata": {
        "id": "VNKoVYUJXVEk"
      },
      "source": [
        "from sklearn.metrics import f1_score\n",
        "f1_score(Y, clf.predict(X))"
      ],
      "execution_count": null,
      "outputs": []
    },
    {
      "cell_type": "code",
      "metadata": {
        "id": "7Stm6WbTXKXJ"
      },
      "source": [
        "print(\"Precision : \" ,precision_score(Y, clf.predict(X))*100)\n",
        "print(\"Recall    : \" ,recall_score(Y, clf.predict(X))*100)\n",
        "print(\"F1-score  : \" ,f1_score(Y, clf.predict(X))*100)\n"
      ],
      "execution_count": null,
      "outputs": []
    },
    {
      "cell_type": "code",
      "metadata": {
        "id": "4DUzSe1LUPJH"
      },
      "source": [
        ""
      ],
      "execution_count": null,
      "outputs": []
    },
    {
      "cell_type": "markdown",
      "metadata": {
        "id": "iJ6Di5tldu5A"
      },
      "source": [
        "**ROC AUC**"
      ]
    },
    {
      "cell_type": "code",
      "metadata": {
        "id": "RGaqm2JZdy-w"
      },
      "source": [
        ""
      ],
      "execution_count": null,
      "outputs": []
    }
  ]
}